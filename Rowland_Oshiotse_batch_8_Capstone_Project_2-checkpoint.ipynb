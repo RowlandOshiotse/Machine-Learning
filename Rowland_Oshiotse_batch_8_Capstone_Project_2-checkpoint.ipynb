{
 "cells": [
  {
   "cell_type": "markdown",
   "id": "41867c40",
   "metadata": {},
   "source": [
    "\n",
    "INTRODUCTION: \"Machine Learning is the field of study that gives computers the ability to learn without being explicitly programmed\"- Arthur Samnuel. \n",
    "\"A computer program is said to learn from experience E with respect to some class of task T and performance measure P, if its performance at task in T, as measured by P, improves the experience E- Tom Mitchell\" \n",
    "\n",
    "Machine is taught sevrally so that the machine learns what is being taught. Machine learning is carried out in several industries to help increase data generation, improve decision making, uncover patterns & trends in data and solve complex problems while saving time. We have two type of machine learning(supervised and unsupervised machine learning). Supervised machine learning requires well labelled data(training datat) for supervised ML input data as well as correct output data is provided to the machine learning model, while unsupervised machine learning requires no guidiance(unlabelled data), here system has to discover the features of the input population by its own and no prior set of categories are used.\n",
    "\n",
    "TASK: The data set we are working on is the car and msrp(price) data set. In carrying out this task, first thing we need to analyse is \"What is the problem we are trying to solve? i.e define the objective. The task here is to build a machine learning  model(main component of machine learning algorithm that maps out how decision is taken) that will predict the prices of cars based on its features, such as engine cylinder, miles per gallon, transmission etc. \n",
    "\n",
    "Now that we have analysed the data set one can observe that the value to be predicted(output) are continuous values, hence we deploy regression algorithm and NOT a classification algorithm. So our task here is a regression task because the values to be predicted are continous values. The equation for a linear regression is Y= aX+b (where y is our dependent/response feature, a is the slope of the equation, x is the independent feature and b is the intercept of the equation which is the predicted value of y when x is 0). For the task we can decide to use one, two or multiple independent/predictor features in carrying out the task, however we will be using multiple independent features(Multiple Linear Regression) for this task. for this task, different regression algorithm will be deployed so that we can analyse which best fits our task\n"
   ]
  },
  {
   "cell_type": "code",
   "execution_count": 1,
   "id": "18d1e200",
   "metadata": {},
   "outputs": [],
   "source": [
    "#Import necessary libraries for the task (Pandas, Seaborn, matplotlib, etc)\n",
    "import numpy as np #mathemaical operations\n",
    "import pandas as pd #analysis ad manipulation\n",
    "import seaborn as sns #Visualization\n",
    "import matplotlib.pyplot as plt #Visualization\n",
    "from sklearn import metrics as m #Evaluate algorithm peformance\n"
   ]
  },
  {
   "cell_type": "code",
   "execution_count": 2,
   "id": "89079e28",
   "metadata": {},
   "outputs": [
    {
     "data": {
      "text/html": [
       "<div>\n",
       "<style scoped>\n",
       "    .dataframe tbody tr th:only-of-type {\n",
       "        vertical-align: middle;\n",
       "    }\n",
       "\n",
       "    .dataframe tbody tr th {\n",
       "        vertical-align: top;\n",
       "    }\n",
       "\n",
       "    .dataframe thead th {\n",
       "        text-align: right;\n",
       "    }\n",
       "</style>\n",
       "<table border=\"1\" class=\"dataframe\">\n",
       "  <thead>\n",
       "    <tr style=\"text-align: right;\">\n",
       "      <th></th>\n",
       "      <th>Make</th>\n",
       "      <th>Model</th>\n",
       "      <th>Year</th>\n",
       "      <th>HP</th>\n",
       "      <th>Cylinders</th>\n",
       "      <th>Transmission</th>\n",
       "      <th>Wheels</th>\n",
       "      <th>MPG-H</th>\n",
       "      <th>MPG-C</th>\n",
       "      <th>Price</th>\n",
       "    </tr>\n",
       "  </thead>\n",
       "  <tbody>\n",
       "    <tr>\n",
       "      <th>0</th>\n",
       "      <td>BMW</td>\n",
       "      <td>1 Series M</td>\n",
       "      <td>2011</td>\n",
       "      <td>335.0</td>\n",
       "      <td>6.0</td>\n",
       "      <td>MANUAL</td>\n",
       "      <td>rear wheel drive</td>\n",
       "      <td>26</td>\n",
       "      <td>19</td>\n",
       "      <td>46135</td>\n",
       "    </tr>\n",
       "    <tr>\n",
       "      <th>1</th>\n",
       "      <td>BMW</td>\n",
       "      <td>1 Series</td>\n",
       "      <td>2011</td>\n",
       "      <td>300.0</td>\n",
       "      <td>6.0</td>\n",
       "      <td>MANUAL</td>\n",
       "      <td>rear wheel drive</td>\n",
       "      <td>28</td>\n",
       "      <td>19</td>\n",
       "      <td>40650</td>\n",
       "    </tr>\n",
       "    <tr>\n",
       "      <th>2</th>\n",
       "      <td>BMW</td>\n",
       "      <td>1 Series</td>\n",
       "      <td>2011</td>\n",
       "      <td>300.0</td>\n",
       "      <td>6.0</td>\n",
       "      <td>MANUAL</td>\n",
       "      <td>rear wheel drive</td>\n",
       "      <td>28</td>\n",
       "      <td>20</td>\n",
       "      <td>36350</td>\n",
       "    </tr>\n",
       "    <tr>\n",
       "      <th>3</th>\n",
       "      <td>BMW</td>\n",
       "      <td>1 Series</td>\n",
       "      <td>2011</td>\n",
       "      <td>230.0</td>\n",
       "      <td>6.0</td>\n",
       "      <td>MANUAL</td>\n",
       "      <td>rear wheel drive</td>\n",
       "      <td>28</td>\n",
       "      <td>18</td>\n",
       "      <td>29450</td>\n",
       "    </tr>\n",
       "    <tr>\n",
       "      <th>4</th>\n",
       "      <td>BMW</td>\n",
       "      <td>1 Series</td>\n",
       "      <td>2011</td>\n",
       "      <td>230.0</td>\n",
       "      <td>6.0</td>\n",
       "      <td>MANUAL</td>\n",
       "      <td>rear wheel drive</td>\n",
       "      <td>28</td>\n",
       "      <td>18</td>\n",
       "      <td>34500</td>\n",
       "    </tr>\n",
       "  </tbody>\n",
       "</table>\n",
       "</div>"
      ],
      "text/plain": [
       "  Make       Model  Year     HP  Cylinders Transmission            Wheels  \\\n",
       "0  BMW  1 Series M  2011  335.0        6.0       MANUAL  rear wheel drive   \n",
       "1  BMW    1 Series  2011  300.0        6.0       MANUAL  rear wheel drive   \n",
       "2  BMW    1 Series  2011  300.0        6.0       MANUAL  rear wheel drive   \n",
       "3  BMW    1 Series  2011  230.0        6.0       MANUAL  rear wheel drive   \n",
       "4  BMW    1 Series  2011  230.0        6.0       MANUAL  rear wheel drive   \n",
       "\n",
       "   MPG-H  MPG-C  Price  \n",
       "0     26     19  46135  \n",
       "1     28     19  40650  \n",
       "2     28     20  36350  \n",
       "3     28     18  29450  \n",
       "4     28     18  34500  "
      ]
     },
     "execution_count": 2,
     "metadata": {},
     "output_type": "execute_result"
    }
   ],
   "source": [
    "#Imports the Data set, the data set here is a cleaned version of the car features and msrp data set \n",
    "#Display the first five records of our Data set using the df.head() function\n",
    "df =pd.read_csv(\"C:\\Datasets\\Cleaned-car-features.csv\",index_col =0)\n",
    "df.head()\n"
   ]
  },
  {
   "cell_type": "code",
   "execution_count": 3,
   "id": "6b78143a",
   "metadata": {},
   "outputs": [],
   "source": [
    "#We import LabelEncoder from sklean preprocessing, this coverts all categorical/string values in our Data set to numerical.\n",
    "#We need to convert all categorical/string values to numberical because our system can NOT work with categorical values\n",
    "from sklearn.preprocessing import LabelEncoder"
   ]
  },
  {
   "cell_type": "code",
   "execution_count": 4,
   "id": "7e8cc059",
   "metadata": {},
   "outputs": [],
   "source": [
    "#We create an object le\n",
    "le = LabelEncoder()"
   ]
  },
  {
   "cell_type": "code",
   "execution_count": 5,
   "id": "4263be27",
   "metadata": {},
   "outputs": [],
   "source": [
    "#We fit and transform the features in the Data set, column by column which contain string values, this converts the values to numerical values\n",
    "df[\"Make\"] = le.fit_transform(df[\"Make\"])\n",
    "df[\"Model\"] = le.fit_transform(df[\"Model\"])\n",
    "df[\"Transmission\"] = le.fit_transform(df[\"Transmission\"])\n",
    "df[\"Wheels\"] = le.fit_transform(df[\"Wheels\"])"
   ]
  },
  {
   "cell_type": "code",
   "execution_count": 6,
   "id": "91b460fb",
   "metadata": {},
   "outputs": [
    {
     "data": {
      "text/html": [
       "<div>\n",
       "<style scoped>\n",
       "    .dataframe tbody tr th:only-of-type {\n",
       "        vertical-align: middle;\n",
       "    }\n",
       "\n",
       "    .dataframe tbody tr th {\n",
       "        vertical-align: top;\n",
       "    }\n",
       "\n",
       "    .dataframe thead th {\n",
       "        text-align: right;\n",
       "    }\n",
       "</style>\n",
       "<table border=\"1\" class=\"dataframe\">\n",
       "  <thead>\n",
       "    <tr style=\"text-align: right;\">\n",
       "      <th></th>\n",
       "      <th>Make</th>\n",
       "      <th>Model</th>\n",
       "      <th>Year</th>\n",
       "      <th>HP</th>\n",
       "      <th>Cylinders</th>\n",
       "      <th>Transmission</th>\n",
       "      <th>Wheels</th>\n",
       "      <th>MPG-H</th>\n",
       "      <th>MPG-C</th>\n",
       "      <th>Price</th>\n",
       "    </tr>\n",
       "  </thead>\n",
       "  <tbody>\n",
       "    <tr>\n",
       "      <th>0</th>\n",
       "      <td>3</td>\n",
       "      <td>3</td>\n",
       "      <td>2011</td>\n",
       "      <td>335.0</td>\n",
       "      <td>6.0</td>\n",
       "      <td>2</td>\n",
       "      <td>3</td>\n",
       "      <td>26</td>\n",
       "      <td>19</td>\n",
       "      <td>46135</td>\n",
       "    </tr>\n",
       "    <tr>\n",
       "      <th>1</th>\n",
       "      <td>3</td>\n",
       "      <td>2</td>\n",
       "      <td>2011</td>\n",
       "      <td>300.0</td>\n",
       "      <td>6.0</td>\n",
       "      <td>2</td>\n",
       "      <td>3</td>\n",
       "      <td>28</td>\n",
       "      <td>19</td>\n",
       "      <td>40650</td>\n",
       "    </tr>\n",
       "    <tr>\n",
       "      <th>2</th>\n",
       "      <td>3</td>\n",
       "      <td>2</td>\n",
       "      <td>2011</td>\n",
       "      <td>300.0</td>\n",
       "      <td>6.0</td>\n",
       "      <td>2</td>\n",
       "      <td>3</td>\n",
       "      <td>28</td>\n",
       "      <td>20</td>\n",
       "      <td>36350</td>\n",
       "    </tr>\n",
       "    <tr>\n",
       "      <th>3</th>\n",
       "      <td>3</td>\n",
       "      <td>2</td>\n",
       "      <td>2011</td>\n",
       "      <td>230.0</td>\n",
       "      <td>6.0</td>\n",
       "      <td>2</td>\n",
       "      <td>3</td>\n",
       "      <td>28</td>\n",
       "      <td>18</td>\n",
       "      <td>29450</td>\n",
       "    </tr>\n",
       "    <tr>\n",
       "      <th>4</th>\n",
       "      <td>3</td>\n",
       "      <td>2</td>\n",
       "      <td>2011</td>\n",
       "      <td>230.0</td>\n",
       "      <td>6.0</td>\n",
       "      <td>2</td>\n",
       "      <td>3</td>\n",
       "      <td>28</td>\n",
       "      <td>18</td>\n",
       "      <td>34500</td>\n",
       "    </tr>\n",
       "    <tr>\n",
       "      <th>...</th>\n",
       "      <td>...</td>\n",
       "      <td>...</td>\n",
       "      <td>...</td>\n",
       "      <td>...</td>\n",
       "      <td>...</td>\n",
       "      <td>...</td>\n",
       "      <td>...</td>\n",
       "      <td>...</td>\n",
       "      <td>...</td>\n",
       "      <td>...</td>\n",
       "    </tr>\n",
       "    <tr>\n",
       "      <th>11909</th>\n",
       "      <td>0</td>\n",
       "      <td>679</td>\n",
       "      <td>2012</td>\n",
       "      <td>300.0</td>\n",
       "      <td>6.0</td>\n",
       "      <td>1</td>\n",
       "      <td>0</td>\n",
       "      <td>23</td>\n",
       "      <td>16</td>\n",
       "      <td>46120</td>\n",
       "    </tr>\n",
       "    <tr>\n",
       "      <th>11910</th>\n",
       "      <td>0</td>\n",
       "      <td>679</td>\n",
       "      <td>2012</td>\n",
       "      <td>300.0</td>\n",
       "      <td>6.0</td>\n",
       "      <td>1</td>\n",
       "      <td>0</td>\n",
       "      <td>23</td>\n",
       "      <td>16</td>\n",
       "      <td>56670</td>\n",
       "    </tr>\n",
       "    <tr>\n",
       "      <th>11911</th>\n",
       "      <td>0</td>\n",
       "      <td>679</td>\n",
       "      <td>2012</td>\n",
       "      <td>300.0</td>\n",
       "      <td>6.0</td>\n",
       "      <td>1</td>\n",
       "      <td>0</td>\n",
       "      <td>23</td>\n",
       "      <td>16</td>\n",
       "      <td>50620</td>\n",
       "    </tr>\n",
       "    <tr>\n",
       "      <th>11912</th>\n",
       "      <td>0</td>\n",
       "      <td>679</td>\n",
       "      <td>2013</td>\n",
       "      <td>300.0</td>\n",
       "      <td>6.0</td>\n",
       "      <td>1</td>\n",
       "      <td>0</td>\n",
       "      <td>23</td>\n",
       "      <td>16</td>\n",
       "      <td>50920</td>\n",
       "    </tr>\n",
       "    <tr>\n",
       "      <th>11913</th>\n",
       "      <td>20</td>\n",
       "      <td>680</td>\n",
       "      <td>2006</td>\n",
       "      <td>221.0</td>\n",
       "      <td>6.0</td>\n",
       "      <td>1</td>\n",
       "      <td>2</td>\n",
       "      <td>26</td>\n",
       "      <td>17</td>\n",
       "      <td>28995</td>\n",
       "    </tr>\n",
       "  </tbody>\n",
       "</table>\n",
       "<p>9377 rows × 10 columns</p>\n",
       "</div>"
      ],
      "text/plain": [
       "       Make  Model  Year     HP  Cylinders  Transmission  Wheels  MPG-H  \\\n",
       "0         3      3  2011  335.0        6.0             2       3     26   \n",
       "1         3      2  2011  300.0        6.0             2       3     28   \n",
       "2         3      2  2011  300.0        6.0             2       3     28   \n",
       "3         3      2  2011  230.0        6.0             2       3     28   \n",
       "4         3      2  2011  230.0        6.0             2       3     28   \n",
       "...     ...    ...   ...    ...        ...           ...     ...    ...   \n",
       "11909     0    679  2012  300.0        6.0             1       0     23   \n",
       "11910     0    679  2012  300.0        6.0             1       0     23   \n",
       "11911     0    679  2012  300.0        6.0             1       0     23   \n",
       "11912     0    679  2013  300.0        6.0             1       0     23   \n",
       "11913    20    680  2006  221.0        6.0             1       2     26   \n",
       "\n",
       "       MPG-C  Price  \n",
       "0         19  46135  \n",
       "1         19  40650  \n",
       "2         20  36350  \n",
       "3         18  29450  \n",
       "4         18  34500  \n",
       "...      ...    ...  \n",
       "11909     16  46120  \n",
       "11910     16  56670  \n",
       "11911     16  50620  \n",
       "11912     16  50920  \n",
       "11913     17  28995  \n",
       "\n",
       "[9377 rows x 10 columns]"
      ]
     },
     "execution_count": 6,
     "metadata": {},
     "output_type": "execute_result"
    }
   ],
   "source": [
    "#call the data set\n",
    "df"
   ]
  },
  {
   "cell_type": "code",
   "execution_count": 7,
   "id": "335806fe",
   "metadata": {},
   "outputs": [
    {
     "data": {
      "text/html": [
       "<div>\n",
       "<style scoped>\n",
       "    .dataframe tbody tr th:only-of-type {\n",
       "        vertical-align: middle;\n",
       "    }\n",
       "\n",
       "    .dataframe tbody tr th {\n",
       "        vertical-align: top;\n",
       "    }\n",
       "\n",
       "    .dataframe thead th {\n",
       "        text-align: right;\n",
       "    }\n",
       "</style>\n",
       "<table border=\"1\" class=\"dataframe\">\n",
       "  <thead>\n",
       "    <tr style=\"text-align: right;\">\n",
       "      <th></th>\n",
       "      <th>Make</th>\n",
       "      <th>Model</th>\n",
       "      <th>Year</th>\n",
       "      <th>HP</th>\n",
       "      <th>Cylinders</th>\n",
       "      <th>Transmission</th>\n",
       "      <th>Wheels</th>\n",
       "      <th>MPG-H</th>\n",
       "      <th>MPG-C</th>\n",
       "      <th>Price</th>\n",
       "    </tr>\n",
       "  </thead>\n",
       "  <tbody>\n",
       "    <tr>\n",
       "      <th>Make</th>\n",
       "      <td>1.000000</td>\n",
       "      <td>0.063453</td>\n",
       "      <td>-0.034275</td>\n",
       "      <td>-0.217664</td>\n",
       "      <td>-0.231634</td>\n",
       "      <td>0.051453</td>\n",
       "      <td>-0.046501</td>\n",
       "      <td>0.111753</td>\n",
       "      <td>0.181080</td>\n",
       "      <td>-0.180914</td>\n",
       "    </tr>\n",
       "    <tr>\n",
       "      <th>Model</th>\n",
       "      <td>0.063453</td>\n",
       "      <td>1.000000</td>\n",
       "      <td>0.032469</td>\n",
       "      <td>0.071048</td>\n",
       "      <td>0.141815</td>\n",
       "      <td>-0.103583</td>\n",
       "      <td>-0.088734</td>\n",
       "      <td>-0.222207</td>\n",
       "      <td>-0.153815</td>\n",
       "      <td>0.048833</td>\n",
       "    </tr>\n",
       "    <tr>\n",
       "      <th>Year</th>\n",
       "      <td>-0.034275</td>\n",
       "      <td>0.032469</td>\n",
       "      <td>1.000000</td>\n",
       "      <td>0.343326</td>\n",
       "      <td>-0.113536</td>\n",
       "      <td>-0.301758</td>\n",
       "      <td>-0.171334</td>\n",
       "      <td>0.358199</td>\n",
       "      <td>0.321223</td>\n",
       "      <td>0.606847</td>\n",
       "    </tr>\n",
       "    <tr>\n",
       "      <th>HP</th>\n",
       "      <td>-0.217664</td>\n",
       "      <td>0.071048</td>\n",
       "      <td>0.343326</td>\n",
       "      <td>1.000000</td>\n",
       "      <td>0.719687</td>\n",
       "      <td>-0.219696</td>\n",
       "      <td>-0.021180</td>\n",
       "      <td>-0.453606</td>\n",
       "      <td>-0.550249</td>\n",
       "      <td>0.738787</td>\n",
       "    </tr>\n",
       "    <tr>\n",
       "      <th>Cylinders</th>\n",
       "      <td>-0.231634</td>\n",
       "      <td>0.141815</td>\n",
       "      <td>-0.113536</td>\n",
       "      <td>0.719687</td>\n",
       "      <td>1.000000</td>\n",
       "      <td>-0.125796</td>\n",
       "      <td>0.111898</td>\n",
       "      <td>-0.708355</td>\n",
       "      <td>-0.758302</td>\n",
       "      <td>0.356832</td>\n",
       "    </tr>\n",
       "    <tr>\n",
       "      <th>Transmission</th>\n",
       "      <td>0.051453</td>\n",
       "      <td>-0.103583</td>\n",
       "      <td>-0.301758</td>\n",
       "      <td>-0.219696</td>\n",
       "      <td>-0.125796</td>\n",
       "      <td>1.000000</td>\n",
       "      <td>0.182370</td>\n",
       "      <td>0.031234</td>\n",
       "      <td>0.042993</td>\n",
       "      <td>-0.338443</td>\n",
       "    </tr>\n",
       "    <tr>\n",
       "      <th>Wheels</th>\n",
       "      <td>-0.046501</td>\n",
       "      <td>-0.088734</td>\n",
       "      <td>-0.171334</td>\n",
       "      <td>-0.021180</td>\n",
       "      <td>0.111898</td>\n",
       "      <td>0.182370</td>\n",
       "      <td>1.000000</td>\n",
       "      <td>0.002230</td>\n",
       "      <td>-0.043049</td>\n",
       "      <td>-0.188830</td>\n",
       "    </tr>\n",
       "    <tr>\n",
       "      <th>MPG-H</th>\n",
       "      <td>0.111753</td>\n",
       "      <td>-0.222207</td>\n",
       "      <td>0.358199</td>\n",
       "      <td>-0.453606</td>\n",
       "      <td>-0.708355</td>\n",
       "      <td>0.031234</td>\n",
       "      <td>0.002230</td>\n",
       "      <td>1.000000</td>\n",
       "      <td>0.939960</td>\n",
       "      <td>-0.111154</td>\n",
       "    </tr>\n",
       "    <tr>\n",
       "      <th>MPG-C</th>\n",
       "      <td>0.181080</td>\n",
       "      <td>-0.153815</td>\n",
       "      <td>0.321223</td>\n",
       "      <td>-0.550249</td>\n",
       "      <td>-0.758302</td>\n",
       "      <td>0.042993</td>\n",
       "      <td>-0.043049</td>\n",
       "      <td>0.939960</td>\n",
       "      <td>1.000000</td>\n",
       "      <td>-0.182150</td>\n",
       "    </tr>\n",
       "    <tr>\n",
       "      <th>Price</th>\n",
       "      <td>-0.180914</td>\n",
       "      <td>0.048833</td>\n",
       "      <td>0.606847</td>\n",
       "      <td>0.738787</td>\n",
       "      <td>0.356832</td>\n",
       "      <td>-0.338443</td>\n",
       "      <td>-0.188830</td>\n",
       "      <td>-0.111154</td>\n",
       "      <td>-0.182150</td>\n",
       "      <td>1.000000</td>\n",
       "    </tr>\n",
       "  </tbody>\n",
       "</table>\n",
       "</div>"
      ],
      "text/plain": [
       "                  Make     Model      Year        HP  Cylinders  Transmission  \\\n",
       "Make          1.000000  0.063453 -0.034275 -0.217664  -0.231634      0.051453   \n",
       "Model         0.063453  1.000000  0.032469  0.071048   0.141815     -0.103583   \n",
       "Year         -0.034275  0.032469  1.000000  0.343326  -0.113536     -0.301758   \n",
       "HP           -0.217664  0.071048  0.343326  1.000000   0.719687     -0.219696   \n",
       "Cylinders    -0.231634  0.141815 -0.113536  0.719687   1.000000     -0.125796   \n",
       "Transmission  0.051453 -0.103583 -0.301758 -0.219696  -0.125796      1.000000   \n",
       "Wheels       -0.046501 -0.088734 -0.171334 -0.021180   0.111898      0.182370   \n",
       "MPG-H         0.111753 -0.222207  0.358199 -0.453606  -0.708355      0.031234   \n",
       "MPG-C         0.181080 -0.153815  0.321223 -0.550249  -0.758302      0.042993   \n",
       "Price        -0.180914  0.048833  0.606847  0.738787   0.356832     -0.338443   \n",
       "\n",
       "                Wheels     MPG-H     MPG-C     Price  \n",
       "Make         -0.046501  0.111753  0.181080 -0.180914  \n",
       "Model        -0.088734 -0.222207 -0.153815  0.048833  \n",
       "Year         -0.171334  0.358199  0.321223  0.606847  \n",
       "HP           -0.021180 -0.453606 -0.550249  0.738787  \n",
       "Cylinders     0.111898 -0.708355 -0.758302  0.356832  \n",
       "Transmission  0.182370  0.031234  0.042993 -0.338443  \n",
       "Wheels        1.000000  0.002230 -0.043049 -0.188830  \n",
       "MPG-H         0.002230  1.000000  0.939960 -0.111154  \n",
       "MPG-C        -0.043049  0.939960  1.000000 -0.182150  \n",
       "Price        -0.188830 -0.111154 -0.182150  1.000000  "
      ]
     },
     "execution_count": 7,
     "metadata": {},
     "output_type": "execute_result"
    }
   ],
   "source": [
    "#The df.corr() function helps to see correlation in the dataset. \n",
    "#Here, we can analyse the correlation between the independent features and the dependent feature.\n",
    "df.corr()"
   ]
  },
  {
   "cell_type": "code",
   "execution_count": 8,
   "id": "621f39c6",
   "metadata": {},
   "outputs": [
    {
     "data": {
      "text/html": [
       "<div>\n",
       "<style scoped>\n",
       "    .dataframe tbody tr th:only-of-type {\n",
       "        vertical-align: middle;\n",
       "    }\n",
       "\n",
       "    .dataframe tbody tr th {\n",
       "        vertical-align: top;\n",
       "    }\n",
       "\n",
       "    .dataframe thead th {\n",
       "        text-align: right;\n",
       "    }\n",
       "</style>\n",
       "<table border=\"1\" class=\"dataframe\">\n",
       "  <thead>\n",
       "    <tr style=\"text-align: right;\">\n",
       "      <th></th>\n",
       "      <th>Make</th>\n",
       "      <th>Model</th>\n",
       "      <th>Year</th>\n",
       "      <th>HP</th>\n",
       "      <th>Cylinders</th>\n",
       "      <th>Transmission</th>\n",
       "      <th>Wheels</th>\n",
       "      <th>MPG-H</th>\n",
       "      <th>MPG-C</th>\n",
       "      <th>Price</th>\n",
       "    </tr>\n",
       "  </thead>\n",
       "  <tbody>\n",
       "    <tr>\n",
       "      <th>count</th>\n",
       "      <td>9377.000000</td>\n",
       "      <td>9377.000000</td>\n",
       "      <td>9377.000000</td>\n",
       "      <td>9377.000000</td>\n",
       "      <td>9377.000000</td>\n",
       "      <td>9377.000000</td>\n",
       "      <td>9377.000000</td>\n",
       "      <td>9377.000000</td>\n",
       "      <td>9377.000000</td>\n",
       "      <td>9377.000000</td>\n",
       "    </tr>\n",
       "    <tr>\n",
       "      <th>mean</th>\n",
       "      <td>17.821905</td>\n",
       "      <td>345.066866</td>\n",
       "      <td>2011.229924</td>\n",
       "      <td>236.704383</td>\n",
       "      <td>5.445025</td>\n",
       "      <td>1.191213</td>\n",
       "      <td>1.727631</td>\n",
       "      <td>26.388717</td>\n",
       "      <td>19.221499</td>\n",
       "      <td>30772.350858</td>\n",
       "    </tr>\n",
       "    <tr>\n",
       "      <th>std</th>\n",
       "      <td>11.626276</td>\n",
       "      <td>207.241558</td>\n",
       "      <td>6.385212</td>\n",
       "      <td>77.627810</td>\n",
       "      <td>1.396986</td>\n",
       "      <td>0.473954</td>\n",
       "      <td>1.064092</td>\n",
       "      <td>5.742335</td>\n",
       "      <td>4.380268</td>\n",
       "      <td>15127.159328</td>\n",
       "    </tr>\n",
       "    <tr>\n",
       "      <th>min</th>\n",
       "      <td>0.000000</td>\n",
       "      <td>0.000000</td>\n",
       "      <td>1994.000000</td>\n",
       "      <td>63.000000</td>\n",
       "      <td>3.000000</td>\n",
       "      <td>0.000000</td>\n",
       "      <td>0.000000</td>\n",
       "      <td>13.000000</td>\n",
       "      <td>10.000000</td>\n",
       "      <td>2000.000000</td>\n",
       "    </tr>\n",
       "    <tr>\n",
       "      <th>25%</th>\n",
       "      <td>7.000000</td>\n",
       "      <td>154.000000</td>\n",
       "      <td>2007.000000</td>\n",
       "      <td>173.000000</td>\n",
       "      <td>4.000000</td>\n",
       "      <td>1.000000</td>\n",
       "      <td>1.000000</td>\n",
       "      <td>22.000000</td>\n",
       "      <td>16.000000</td>\n",
       "      <td>21945.000000</td>\n",
       "    </tr>\n",
       "    <tr>\n",
       "      <th>50%</th>\n",
       "      <td>15.000000</td>\n",
       "      <td>340.000000</td>\n",
       "      <td>2015.000000</td>\n",
       "      <td>230.000000</td>\n",
       "      <td>6.000000</td>\n",
       "      <td>1.000000</td>\n",
       "      <td>2.000000</td>\n",
       "      <td>26.000000</td>\n",
       "      <td>18.000000</td>\n",
       "      <td>29925.000000</td>\n",
       "    </tr>\n",
       "    <tr>\n",
       "      <th>75%</th>\n",
       "      <td>27.000000</td>\n",
       "      <td>552.000000</td>\n",
       "      <td>2016.000000</td>\n",
       "      <td>290.000000</td>\n",
       "      <td>6.000000</td>\n",
       "      <td>1.000000</td>\n",
       "      <td>3.000000</td>\n",
       "      <td>30.000000</td>\n",
       "      <td>22.000000</td>\n",
       "      <td>39625.000000</td>\n",
       "    </tr>\n",
       "    <tr>\n",
       "      <th>max</th>\n",
       "      <td>37.000000</td>\n",
       "      <td>688.000000</td>\n",
       "      <td>2017.000000</td>\n",
       "      <td>485.000000</td>\n",
       "      <td>8.000000</td>\n",
       "      <td>3.000000</td>\n",
       "      <td>3.000000</td>\n",
       "      <td>42.000000</td>\n",
       "      <td>31.000000</td>\n",
       "      <td>75200.000000</td>\n",
       "    </tr>\n",
       "  </tbody>\n",
       "</table>\n",
       "</div>"
      ],
      "text/plain": [
       "              Make        Model         Year           HP    Cylinders  \\\n",
       "count  9377.000000  9377.000000  9377.000000  9377.000000  9377.000000   \n",
       "mean     17.821905   345.066866  2011.229924   236.704383     5.445025   \n",
       "std      11.626276   207.241558     6.385212    77.627810     1.396986   \n",
       "min       0.000000     0.000000  1994.000000    63.000000     3.000000   \n",
       "25%       7.000000   154.000000  2007.000000   173.000000     4.000000   \n",
       "50%      15.000000   340.000000  2015.000000   230.000000     6.000000   \n",
       "75%      27.000000   552.000000  2016.000000   290.000000     6.000000   \n",
       "max      37.000000   688.000000  2017.000000   485.000000     8.000000   \n",
       "\n",
       "       Transmission       Wheels        MPG-H        MPG-C         Price  \n",
       "count   9377.000000  9377.000000  9377.000000  9377.000000   9377.000000  \n",
       "mean       1.191213     1.727631    26.388717    19.221499  30772.350858  \n",
       "std        0.473954     1.064092     5.742335     4.380268  15127.159328  \n",
       "min        0.000000     0.000000    13.000000    10.000000   2000.000000  \n",
       "25%        1.000000     1.000000    22.000000    16.000000  21945.000000  \n",
       "50%        1.000000     2.000000    26.000000    18.000000  29925.000000  \n",
       "75%        1.000000     3.000000    30.000000    22.000000  39625.000000  \n",
       "max        3.000000     3.000000    42.000000    31.000000  75200.000000  "
      ]
     },
     "execution_count": 8,
     "metadata": {},
     "output_type": "execute_result"
    }
   ],
   "source": [
    "#df.describe() function provides some basic statistical analysis of the Data set\n",
    "df.describe()"
   ]
  },
  {
   "cell_type": "code",
   "execution_count": 9,
   "id": "1b86faee",
   "metadata": {},
   "outputs": [
    {
     "data": {
      "text/html": [
       "<div>\n",
       "<style scoped>\n",
       "    .dataframe tbody tr th:only-of-type {\n",
       "        vertical-align: middle;\n",
       "    }\n",
       "\n",
       "    .dataframe tbody tr th {\n",
       "        vertical-align: top;\n",
       "    }\n",
       "\n",
       "    .dataframe thead th {\n",
       "        text-align: right;\n",
       "    }\n",
       "</style>\n",
       "<table border=\"1\" class=\"dataframe\">\n",
       "  <thead>\n",
       "    <tr style=\"text-align: right;\">\n",
       "      <th></th>\n",
       "      <th>Make</th>\n",
       "      <th>Model</th>\n",
       "      <th>Year</th>\n",
       "      <th>HP</th>\n",
       "      <th>Cylinders</th>\n",
       "      <th>Transmission</th>\n",
       "      <th>Wheels</th>\n",
       "      <th>MPG-H</th>\n",
       "      <th>MPG-C</th>\n",
       "      <th>Price</th>\n",
       "    </tr>\n",
       "  </thead>\n",
       "  <tbody>\n",
       "    <tr>\n",
       "      <th>Make</th>\n",
       "      <td>1.000000</td>\n",
       "      <td>0.063453</td>\n",
       "      <td>-0.034275</td>\n",
       "      <td>-0.217664</td>\n",
       "      <td>-0.231634</td>\n",
       "      <td>0.051453</td>\n",
       "      <td>-0.046501</td>\n",
       "      <td>0.111753</td>\n",
       "      <td>0.181080</td>\n",
       "      <td>-0.180914</td>\n",
       "    </tr>\n",
       "    <tr>\n",
       "      <th>Model</th>\n",
       "      <td>0.063453</td>\n",
       "      <td>1.000000</td>\n",
       "      <td>0.032469</td>\n",
       "      <td>0.071048</td>\n",
       "      <td>0.141815</td>\n",
       "      <td>-0.103583</td>\n",
       "      <td>-0.088734</td>\n",
       "      <td>-0.222207</td>\n",
       "      <td>-0.153815</td>\n",
       "      <td>0.048833</td>\n",
       "    </tr>\n",
       "    <tr>\n",
       "      <th>Year</th>\n",
       "      <td>-0.034275</td>\n",
       "      <td>0.032469</td>\n",
       "      <td>1.000000</td>\n",
       "      <td>0.343326</td>\n",
       "      <td>-0.113536</td>\n",
       "      <td>-0.301758</td>\n",
       "      <td>-0.171334</td>\n",
       "      <td>0.358199</td>\n",
       "      <td>0.321223</td>\n",
       "      <td>0.606847</td>\n",
       "    </tr>\n",
       "    <tr>\n",
       "      <th>HP</th>\n",
       "      <td>-0.217664</td>\n",
       "      <td>0.071048</td>\n",
       "      <td>0.343326</td>\n",
       "      <td>1.000000</td>\n",
       "      <td>0.719687</td>\n",
       "      <td>-0.219696</td>\n",
       "      <td>-0.021180</td>\n",
       "      <td>-0.453606</td>\n",
       "      <td>-0.550249</td>\n",
       "      <td>0.738787</td>\n",
       "    </tr>\n",
       "    <tr>\n",
       "      <th>Cylinders</th>\n",
       "      <td>-0.231634</td>\n",
       "      <td>0.141815</td>\n",
       "      <td>-0.113536</td>\n",
       "      <td>0.719687</td>\n",
       "      <td>1.000000</td>\n",
       "      <td>-0.125796</td>\n",
       "      <td>0.111898</td>\n",
       "      <td>-0.708355</td>\n",
       "      <td>-0.758302</td>\n",
       "      <td>0.356832</td>\n",
       "    </tr>\n",
       "    <tr>\n",
       "      <th>Transmission</th>\n",
       "      <td>0.051453</td>\n",
       "      <td>-0.103583</td>\n",
       "      <td>-0.301758</td>\n",
       "      <td>-0.219696</td>\n",
       "      <td>-0.125796</td>\n",
       "      <td>1.000000</td>\n",
       "      <td>0.182370</td>\n",
       "      <td>0.031234</td>\n",
       "      <td>0.042993</td>\n",
       "      <td>-0.338443</td>\n",
       "    </tr>\n",
       "    <tr>\n",
       "      <th>Wheels</th>\n",
       "      <td>-0.046501</td>\n",
       "      <td>-0.088734</td>\n",
       "      <td>-0.171334</td>\n",
       "      <td>-0.021180</td>\n",
       "      <td>0.111898</td>\n",
       "      <td>0.182370</td>\n",
       "      <td>1.000000</td>\n",
       "      <td>0.002230</td>\n",
       "      <td>-0.043049</td>\n",
       "      <td>-0.188830</td>\n",
       "    </tr>\n",
       "    <tr>\n",
       "      <th>MPG-H</th>\n",
       "      <td>0.111753</td>\n",
       "      <td>-0.222207</td>\n",
       "      <td>0.358199</td>\n",
       "      <td>-0.453606</td>\n",
       "      <td>-0.708355</td>\n",
       "      <td>0.031234</td>\n",
       "      <td>0.002230</td>\n",
       "      <td>1.000000</td>\n",
       "      <td>0.939960</td>\n",
       "      <td>-0.111154</td>\n",
       "    </tr>\n",
       "    <tr>\n",
       "      <th>MPG-C</th>\n",
       "      <td>0.181080</td>\n",
       "      <td>-0.153815</td>\n",
       "      <td>0.321223</td>\n",
       "      <td>-0.550249</td>\n",
       "      <td>-0.758302</td>\n",
       "      <td>0.042993</td>\n",
       "      <td>-0.043049</td>\n",
       "      <td>0.939960</td>\n",
       "      <td>1.000000</td>\n",
       "      <td>-0.182150</td>\n",
       "    </tr>\n",
       "    <tr>\n",
       "      <th>Price</th>\n",
       "      <td>-0.180914</td>\n",
       "      <td>0.048833</td>\n",
       "      <td>0.606847</td>\n",
       "      <td>0.738787</td>\n",
       "      <td>0.356832</td>\n",
       "      <td>-0.338443</td>\n",
       "      <td>-0.188830</td>\n",
       "      <td>-0.111154</td>\n",
       "      <td>-0.182150</td>\n",
       "      <td>1.000000</td>\n",
       "    </tr>\n",
       "  </tbody>\n",
       "</table>\n",
       "</div>"
      ],
      "text/plain": [
       "                  Make     Model      Year        HP  Cylinders  Transmission  \\\n",
       "Make          1.000000  0.063453 -0.034275 -0.217664  -0.231634      0.051453   \n",
       "Model         0.063453  1.000000  0.032469  0.071048   0.141815     -0.103583   \n",
       "Year         -0.034275  0.032469  1.000000  0.343326  -0.113536     -0.301758   \n",
       "HP           -0.217664  0.071048  0.343326  1.000000   0.719687     -0.219696   \n",
       "Cylinders    -0.231634  0.141815 -0.113536  0.719687   1.000000     -0.125796   \n",
       "Transmission  0.051453 -0.103583 -0.301758 -0.219696  -0.125796      1.000000   \n",
       "Wheels       -0.046501 -0.088734 -0.171334 -0.021180   0.111898      0.182370   \n",
       "MPG-H         0.111753 -0.222207  0.358199 -0.453606  -0.708355      0.031234   \n",
       "MPG-C         0.181080 -0.153815  0.321223 -0.550249  -0.758302      0.042993   \n",
       "Price        -0.180914  0.048833  0.606847  0.738787   0.356832     -0.338443   \n",
       "\n",
       "                Wheels     MPG-H     MPG-C     Price  \n",
       "Make         -0.046501  0.111753  0.181080 -0.180914  \n",
       "Model        -0.088734 -0.222207 -0.153815  0.048833  \n",
       "Year         -0.171334  0.358199  0.321223  0.606847  \n",
       "HP           -0.021180 -0.453606 -0.550249  0.738787  \n",
       "Cylinders     0.111898 -0.708355 -0.758302  0.356832  \n",
       "Transmission  0.182370  0.031234  0.042993 -0.338443  \n",
       "Wheels        1.000000  0.002230 -0.043049 -0.188830  \n",
       "MPG-H         0.002230  1.000000  0.939960 -0.111154  \n",
       "MPG-C        -0.043049  0.939960  1.000000 -0.182150  \n",
       "Price        -0.188830 -0.111154 -0.182150  1.000000  "
      ]
     },
     "execution_count": 9,
     "metadata": {},
     "output_type": "execute_result"
    }
   ],
   "source": [
    "df.corr()"
   ]
  },
  {
   "cell_type": "code",
   "execution_count": 10,
   "id": "a035a780",
   "metadata": {},
   "outputs": [
    {
     "data": {
      "text/html": [
       "<div>\n",
       "<style scoped>\n",
       "    .dataframe tbody tr th:only-of-type {\n",
       "        vertical-align: middle;\n",
       "    }\n",
       "\n",
       "    .dataframe tbody tr th {\n",
       "        vertical-align: top;\n",
       "    }\n",
       "\n",
       "    .dataframe thead th {\n",
       "        text-align: right;\n",
       "    }\n",
       "</style>\n",
       "<table border=\"1\" class=\"dataframe\">\n",
       "  <thead>\n",
       "    <tr style=\"text-align: right;\">\n",
       "      <th></th>\n",
       "      <th>Make</th>\n",
       "      <th>Model</th>\n",
       "      <th>Year</th>\n",
       "      <th>HP</th>\n",
       "      <th>Cylinders</th>\n",
       "      <th>Transmission</th>\n",
       "      <th>Wheels</th>\n",
       "      <th>MPG-H</th>\n",
       "      <th>MPG-C</th>\n",
       "      <th>Price</th>\n",
       "    </tr>\n",
       "  </thead>\n",
       "  <tbody>\n",
       "    <tr>\n",
       "      <th>Make</th>\n",
       "      <td>1.000000</td>\n",
       "      <td>0.063453</td>\n",
       "      <td>-0.034275</td>\n",
       "      <td>-0.217664</td>\n",
       "      <td>-0.231634</td>\n",
       "      <td>0.051453</td>\n",
       "      <td>-0.046501</td>\n",
       "      <td>0.111753</td>\n",
       "      <td>0.181080</td>\n",
       "      <td>-0.180914</td>\n",
       "    </tr>\n",
       "    <tr>\n",
       "      <th>Model</th>\n",
       "      <td>0.063453</td>\n",
       "      <td>1.000000</td>\n",
       "      <td>0.032469</td>\n",
       "      <td>0.071048</td>\n",
       "      <td>0.141815</td>\n",
       "      <td>-0.103583</td>\n",
       "      <td>-0.088734</td>\n",
       "      <td>-0.222207</td>\n",
       "      <td>-0.153815</td>\n",
       "      <td>0.048833</td>\n",
       "    </tr>\n",
       "    <tr>\n",
       "      <th>Year</th>\n",
       "      <td>-0.034275</td>\n",
       "      <td>0.032469</td>\n",
       "      <td>1.000000</td>\n",
       "      <td>0.343326</td>\n",
       "      <td>-0.113536</td>\n",
       "      <td>-0.301758</td>\n",
       "      <td>-0.171334</td>\n",
       "      <td>0.358199</td>\n",
       "      <td>0.321223</td>\n",
       "      <td>0.606847</td>\n",
       "    </tr>\n",
       "    <tr>\n",
       "      <th>HP</th>\n",
       "      <td>-0.217664</td>\n",
       "      <td>0.071048</td>\n",
       "      <td>0.343326</td>\n",
       "      <td>1.000000</td>\n",
       "      <td>0.719687</td>\n",
       "      <td>-0.219696</td>\n",
       "      <td>-0.021180</td>\n",
       "      <td>-0.453606</td>\n",
       "      <td>-0.550249</td>\n",
       "      <td>0.738787</td>\n",
       "    </tr>\n",
       "    <tr>\n",
       "      <th>Cylinders</th>\n",
       "      <td>-0.231634</td>\n",
       "      <td>0.141815</td>\n",
       "      <td>-0.113536</td>\n",
       "      <td>0.719687</td>\n",
       "      <td>1.000000</td>\n",
       "      <td>-0.125796</td>\n",
       "      <td>0.111898</td>\n",
       "      <td>-0.708355</td>\n",
       "      <td>-0.758302</td>\n",
       "      <td>0.356832</td>\n",
       "    </tr>\n",
       "    <tr>\n",
       "      <th>Transmission</th>\n",
       "      <td>0.051453</td>\n",
       "      <td>-0.103583</td>\n",
       "      <td>-0.301758</td>\n",
       "      <td>-0.219696</td>\n",
       "      <td>-0.125796</td>\n",
       "      <td>1.000000</td>\n",
       "      <td>0.182370</td>\n",
       "      <td>0.031234</td>\n",
       "      <td>0.042993</td>\n",
       "      <td>-0.338443</td>\n",
       "    </tr>\n",
       "    <tr>\n",
       "      <th>Wheels</th>\n",
       "      <td>-0.046501</td>\n",
       "      <td>-0.088734</td>\n",
       "      <td>-0.171334</td>\n",
       "      <td>-0.021180</td>\n",
       "      <td>0.111898</td>\n",
       "      <td>0.182370</td>\n",
       "      <td>1.000000</td>\n",
       "      <td>0.002230</td>\n",
       "      <td>-0.043049</td>\n",
       "      <td>-0.188830</td>\n",
       "    </tr>\n",
       "    <tr>\n",
       "      <th>MPG-H</th>\n",
       "      <td>0.111753</td>\n",
       "      <td>-0.222207</td>\n",
       "      <td>0.358199</td>\n",
       "      <td>-0.453606</td>\n",
       "      <td>-0.708355</td>\n",
       "      <td>0.031234</td>\n",
       "      <td>0.002230</td>\n",
       "      <td>1.000000</td>\n",
       "      <td>0.939960</td>\n",
       "      <td>-0.111154</td>\n",
       "    </tr>\n",
       "    <tr>\n",
       "      <th>MPG-C</th>\n",
       "      <td>0.181080</td>\n",
       "      <td>-0.153815</td>\n",
       "      <td>0.321223</td>\n",
       "      <td>-0.550249</td>\n",
       "      <td>-0.758302</td>\n",
       "      <td>0.042993</td>\n",
       "      <td>-0.043049</td>\n",
       "      <td>0.939960</td>\n",
       "      <td>1.000000</td>\n",
       "      <td>-0.182150</td>\n",
       "    </tr>\n",
       "    <tr>\n",
       "      <th>Price</th>\n",
       "      <td>-0.180914</td>\n",
       "      <td>0.048833</td>\n",
       "      <td>0.606847</td>\n",
       "      <td>0.738787</td>\n",
       "      <td>0.356832</td>\n",
       "      <td>-0.338443</td>\n",
       "      <td>-0.188830</td>\n",
       "      <td>-0.111154</td>\n",
       "      <td>-0.182150</td>\n",
       "      <td>1.000000</td>\n",
       "    </tr>\n",
       "  </tbody>\n",
       "</table>\n",
       "</div>"
      ],
      "text/plain": [
       "                  Make     Model      Year        HP  Cylinders  Transmission  \\\n",
       "Make          1.000000  0.063453 -0.034275 -0.217664  -0.231634      0.051453   \n",
       "Model         0.063453  1.000000  0.032469  0.071048   0.141815     -0.103583   \n",
       "Year         -0.034275  0.032469  1.000000  0.343326  -0.113536     -0.301758   \n",
       "HP           -0.217664  0.071048  0.343326  1.000000   0.719687     -0.219696   \n",
       "Cylinders    -0.231634  0.141815 -0.113536  0.719687   1.000000     -0.125796   \n",
       "Transmission  0.051453 -0.103583 -0.301758 -0.219696  -0.125796      1.000000   \n",
       "Wheels       -0.046501 -0.088734 -0.171334 -0.021180   0.111898      0.182370   \n",
       "MPG-H         0.111753 -0.222207  0.358199 -0.453606  -0.708355      0.031234   \n",
       "MPG-C         0.181080 -0.153815  0.321223 -0.550249  -0.758302      0.042993   \n",
       "Price        -0.180914  0.048833  0.606847  0.738787   0.356832     -0.338443   \n",
       "\n",
       "                Wheels     MPG-H     MPG-C     Price  \n",
       "Make         -0.046501  0.111753  0.181080 -0.180914  \n",
       "Model        -0.088734 -0.222207 -0.153815  0.048833  \n",
       "Year         -0.171334  0.358199  0.321223  0.606847  \n",
       "HP           -0.021180 -0.453606 -0.550249  0.738787  \n",
       "Cylinders     0.111898 -0.708355 -0.758302  0.356832  \n",
       "Transmission  0.182370  0.031234  0.042993 -0.338443  \n",
       "Wheels        1.000000  0.002230 -0.043049 -0.188830  \n",
       "MPG-H         0.002230  1.000000  0.939960 -0.111154  \n",
       "MPG-C        -0.043049  0.939960  1.000000 -0.182150  \n",
       "Price        -0.188830 -0.111154 -0.182150  1.000000  "
      ]
     },
     "execution_count": 10,
     "metadata": {},
     "output_type": "execute_result"
    }
   ],
   "source": [
    "df.corr()"
   ]
  },
  {
   "cell_type": "code",
   "execution_count": 11,
   "id": "aae03d6c",
   "metadata": {},
   "outputs": [
    {
     "data": {
      "text/plain": [
       "Make              int32\n",
       "Model             int32\n",
       "Year              int64\n",
       "HP              float64\n",
       "Cylinders       float64\n",
       "Transmission      int32\n",
       "Wheels            int32\n",
       "MPG-H             int64\n",
       "MPG-C             int64\n",
       "Price             int64\n",
       "dtype: object"
      ]
     },
     "execution_count": 11,
     "metadata": {},
     "output_type": "execute_result"
    }
   ],
   "source": [
    "#df.types fucntion help us to analyse the data types contained in our Data sset\n",
    "df.dtypes"
   ]
  },
  {
   "cell_type": "markdown",
   "id": "b9e16087",
   "metadata": {},
   "source": [
    "Splitting Data into training and testing Dataset, x features are year, HP, cylinders, transmission, wheels, MPG-H and MPG-C and y is price"
   ]
  },
  {
   "cell_type": "code",
   "execution_count": 12,
   "id": "f923c943",
   "metadata": {},
   "outputs": [],
   "source": [
    "#We have identified our dependent and independen features, we now need to assign our independent features to x-axis\n",
    "#And assign  the depedent/target feature to our y-axis\n",
    "#Our task is a regression task because our target feature is continous, so are using Linear Regression Algorithm \n",
    "x = df.iloc[:,2:9]"
   ]
  },
  {
   "cell_type": "code",
   "execution_count": 13,
   "id": "631eec31",
   "metadata": {},
   "outputs": [
    {
     "data": {
      "text/html": [
       "<div>\n",
       "<style scoped>\n",
       "    .dataframe tbody tr th:only-of-type {\n",
       "        vertical-align: middle;\n",
       "    }\n",
       "\n",
       "    .dataframe tbody tr th {\n",
       "        vertical-align: top;\n",
       "    }\n",
       "\n",
       "    .dataframe thead th {\n",
       "        text-align: right;\n",
       "    }\n",
       "</style>\n",
       "<table border=\"1\" class=\"dataframe\">\n",
       "  <thead>\n",
       "    <tr style=\"text-align: right;\">\n",
       "      <th></th>\n",
       "      <th>Year</th>\n",
       "      <th>HP</th>\n",
       "      <th>Cylinders</th>\n",
       "      <th>Transmission</th>\n",
       "      <th>Wheels</th>\n",
       "      <th>MPG-H</th>\n",
       "      <th>MPG-C</th>\n",
       "    </tr>\n",
       "  </thead>\n",
       "  <tbody>\n",
       "    <tr>\n",
       "      <th>0</th>\n",
       "      <td>2011</td>\n",
       "      <td>335.0</td>\n",
       "      <td>6.0</td>\n",
       "      <td>2</td>\n",
       "      <td>3</td>\n",
       "      <td>26</td>\n",
       "      <td>19</td>\n",
       "    </tr>\n",
       "    <tr>\n",
       "      <th>1</th>\n",
       "      <td>2011</td>\n",
       "      <td>300.0</td>\n",
       "      <td>6.0</td>\n",
       "      <td>2</td>\n",
       "      <td>3</td>\n",
       "      <td>28</td>\n",
       "      <td>19</td>\n",
       "    </tr>\n",
       "    <tr>\n",
       "      <th>2</th>\n",
       "      <td>2011</td>\n",
       "      <td>300.0</td>\n",
       "      <td>6.0</td>\n",
       "      <td>2</td>\n",
       "      <td>3</td>\n",
       "      <td>28</td>\n",
       "      <td>20</td>\n",
       "    </tr>\n",
       "    <tr>\n",
       "      <th>3</th>\n",
       "      <td>2011</td>\n",
       "      <td>230.0</td>\n",
       "      <td>6.0</td>\n",
       "      <td>2</td>\n",
       "      <td>3</td>\n",
       "      <td>28</td>\n",
       "      <td>18</td>\n",
       "    </tr>\n",
       "    <tr>\n",
       "      <th>4</th>\n",
       "      <td>2011</td>\n",
       "      <td>230.0</td>\n",
       "      <td>6.0</td>\n",
       "      <td>2</td>\n",
       "      <td>3</td>\n",
       "      <td>28</td>\n",
       "      <td>18</td>\n",
       "    </tr>\n",
       "    <tr>\n",
       "      <th>...</th>\n",
       "      <td>...</td>\n",
       "      <td>...</td>\n",
       "      <td>...</td>\n",
       "      <td>...</td>\n",
       "      <td>...</td>\n",
       "      <td>...</td>\n",
       "      <td>...</td>\n",
       "    </tr>\n",
       "    <tr>\n",
       "      <th>11909</th>\n",
       "      <td>2012</td>\n",
       "      <td>300.0</td>\n",
       "      <td>6.0</td>\n",
       "      <td>1</td>\n",
       "      <td>0</td>\n",
       "      <td>23</td>\n",
       "      <td>16</td>\n",
       "    </tr>\n",
       "    <tr>\n",
       "      <th>11910</th>\n",
       "      <td>2012</td>\n",
       "      <td>300.0</td>\n",
       "      <td>6.0</td>\n",
       "      <td>1</td>\n",
       "      <td>0</td>\n",
       "      <td>23</td>\n",
       "      <td>16</td>\n",
       "    </tr>\n",
       "    <tr>\n",
       "      <th>11911</th>\n",
       "      <td>2012</td>\n",
       "      <td>300.0</td>\n",
       "      <td>6.0</td>\n",
       "      <td>1</td>\n",
       "      <td>0</td>\n",
       "      <td>23</td>\n",
       "      <td>16</td>\n",
       "    </tr>\n",
       "    <tr>\n",
       "      <th>11912</th>\n",
       "      <td>2013</td>\n",
       "      <td>300.0</td>\n",
       "      <td>6.0</td>\n",
       "      <td>1</td>\n",
       "      <td>0</td>\n",
       "      <td>23</td>\n",
       "      <td>16</td>\n",
       "    </tr>\n",
       "    <tr>\n",
       "      <th>11913</th>\n",
       "      <td>2006</td>\n",
       "      <td>221.0</td>\n",
       "      <td>6.0</td>\n",
       "      <td>1</td>\n",
       "      <td>2</td>\n",
       "      <td>26</td>\n",
       "      <td>17</td>\n",
       "    </tr>\n",
       "  </tbody>\n",
       "</table>\n",
       "<p>9377 rows × 7 columns</p>\n",
       "</div>"
      ],
      "text/plain": [
       "       Year     HP  Cylinders  Transmission  Wheels  MPG-H  MPG-C\n",
       "0      2011  335.0        6.0             2       3     26     19\n",
       "1      2011  300.0        6.0             2       3     28     19\n",
       "2      2011  300.0        6.0             2       3     28     20\n",
       "3      2011  230.0        6.0             2       3     28     18\n",
       "4      2011  230.0        6.0             2       3     28     18\n",
       "...     ...    ...        ...           ...     ...    ...    ...\n",
       "11909  2012  300.0        6.0             1       0     23     16\n",
       "11910  2012  300.0        6.0             1       0     23     16\n",
       "11911  2012  300.0        6.0             1       0     23     16\n",
       "11912  2013  300.0        6.0             1       0     23     16\n",
       "11913  2006  221.0        6.0             1       2     26     17\n",
       "\n",
       "[9377 rows x 7 columns]"
      ]
     },
     "execution_count": 13,
     "metadata": {},
     "output_type": "execute_result"
    }
   ],
   "source": [
    "x"
   ]
  },
  {
   "cell_type": "code",
   "execution_count": 14,
   "id": "330f47bb",
   "metadata": {},
   "outputs": [],
   "source": [
    "#Dependent feature is assigned to y-axis\n",
    "y = df.iloc[:,-1]"
   ]
  },
  {
   "cell_type": "code",
   "execution_count": 15,
   "id": "3ead8ac2",
   "metadata": {},
   "outputs": [
    {
     "data": {
      "text/plain": [
       "0        46135\n",
       "1        40650\n",
       "2        36350\n",
       "3        29450\n",
       "4        34500\n",
       "         ...  \n",
       "11909    46120\n",
       "11910    56670\n",
       "11911    50620\n",
       "11912    50920\n",
       "11913    28995\n",
       "Name: Price, Length: 9377, dtype: int64"
      ]
     },
     "execution_count": 15,
     "metadata": {},
     "output_type": "execute_result"
    }
   ],
   "source": [
    "y"
   ]
  },
  {
   "cell_type": "code",
   "execution_count": 16,
   "id": "f1afd8d9",
   "metadata": {},
   "outputs": [
    {
     "data": {
      "text/plain": [
       "(9377, 7)"
      ]
     },
     "execution_count": 16,
     "metadata": {},
     "output_type": "execute_result"
    }
   ],
   "source": [
    "#displays the shape of x-axis (6048 rows, 9 columns)\n",
    "x.shape"
   ]
  },
  {
   "cell_type": "code",
   "execution_count": 17,
   "id": "13e20a06",
   "metadata": {},
   "outputs": [
    {
     "data": {
      "text/plain": [
       "(9377,)"
      ]
     },
     "execution_count": 17,
     "metadata": {},
     "output_type": "execute_result"
    }
   ],
   "source": [
    "#displays the shape of y_axis \n",
    "y.shape"
   ]
  },
  {
   "cell_type": "code",
   "execution_count": 18,
   "id": "f0cd771e",
   "metadata": {},
   "outputs": [],
   "source": [
    "#We import train-test-split from sklearn to split our Data into a train Data set, \n",
    "#which we use to train our model and test which we used to test our predicted values\n",
    "#we use random state to ensure that the values of our train Data set and test Data set is not changing each we run our code.\n",
    "#We decide how the split is done, here i have gone for train(80%) and test(20%), hence we write test_size =0.3\n",
    "from sklearn.model_selection import train_test_split\n",
    "x_train, x_test, y_train, y_test = train_test_split(x,y,test_size =0.3, random_state =5)"
   ]
  },
  {
   "cell_type": "code",
   "execution_count": 19,
   "id": "d25a0416",
   "metadata": {},
   "outputs": [
    {
     "data": {
      "text/html": [
       "<div>\n",
       "<style scoped>\n",
       "    .dataframe tbody tr th:only-of-type {\n",
       "        vertical-align: middle;\n",
       "    }\n",
       "\n",
       "    .dataframe tbody tr th {\n",
       "        vertical-align: top;\n",
       "    }\n",
       "\n",
       "    .dataframe thead th {\n",
       "        text-align: right;\n",
       "    }\n",
       "</style>\n",
       "<table border=\"1\" class=\"dataframe\">\n",
       "  <thead>\n",
       "    <tr style=\"text-align: right;\">\n",
       "      <th></th>\n",
       "      <th>Year</th>\n",
       "      <th>HP</th>\n",
       "      <th>Cylinders</th>\n",
       "      <th>Transmission</th>\n",
       "      <th>Wheels</th>\n",
       "      <th>MPG-H</th>\n",
       "      <th>MPG-C</th>\n",
       "    </tr>\n",
       "  </thead>\n",
       "  <tbody>\n",
       "    <tr>\n",
       "      <th>2327</th>\n",
       "      <td>2015</td>\n",
       "      <td>180.0</td>\n",
       "      <td>4.0</td>\n",
       "      <td>1</td>\n",
       "      <td>2</td>\n",
       "      <td>28</td>\n",
       "      <td>20</td>\n",
       "    </tr>\n",
       "    <tr>\n",
       "      <th>11266</th>\n",
       "      <td>2005</td>\n",
       "      <td>185.0</td>\n",
       "      <td>6.0</td>\n",
       "      <td>1</td>\n",
       "      <td>2</td>\n",
       "      <td>24</td>\n",
       "      <td>17</td>\n",
       "    </tr>\n",
       "    <tr>\n",
       "      <th>7855</th>\n",
       "      <td>2015</td>\n",
       "      <td>330.0</td>\n",
       "      <td>6.0</td>\n",
       "      <td>1</td>\n",
       "      <td>3</td>\n",
       "      <td>26</td>\n",
       "      <td>18</td>\n",
       "    </tr>\n",
       "    <tr>\n",
       "      <th>4566</th>\n",
       "      <td>2017</td>\n",
       "      <td>282.0</td>\n",
       "      <td>6.0</td>\n",
       "      <td>1</td>\n",
       "      <td>1</td>\n",
       "      <td>23</td>\n",
       "      <td>17</td>\n",
       "    </tr>\n",
       "    <tr>\n",
       "      <th>2217</th>\n",
       "      <td>2006</td>\n",
       "      <td>225.0</td>\n",
       "      <td>6.0</td>\n",
       "      <td>1</td>\n",
       "      <td>2</td>\n",
       "      <td>27</td>\n",
       "      <td>18</td>\n",
       "    </tr>\n",
       "    <tr>\n",
       "      <th>...</th>\n",
       "      <td>...</td>\n",
       "      <td>...</td>\n",
       "      <td>...</td>\n",
       "      <td>...</td>\n",
       "      <td>...</td>\n",
       "      <td>...</td>\n",
       "      <td>...</td>\n",
       "    </tr>\n",
       "    <tr>\n",
       "      <th>9484</th>\n",
       "      <td>2011</td>\n",
       "      <td>332.0</td>\n",
       "      <td>8.0</td>\n",
       "      <td>1</td>\n",
       "      <td>3</td>\n",
       "      <td>23</td>\n",
       "      <td>20</td>\n",
       "    </tr>\n",
       "    <tr>\n",
       "      <th>3983</th>\n",
       "      <td>2017</td>\n",
       "      <td>252.0</td>\n",
       "      <td>4.0</td>\n",
       "      <td>1</td>\n",
       "      <td>0</td>\n",
       "      <td>26</td>\n",
       "      <td>20</td>\n",
       "    </tr>\n",
       "    <tr>\n",
       "      <th>5198</th>\n",
       "      <td>2009</td>\n",
       "      <td>252.0</td>\n",
       "      <td>6.0</td>\n",
       "      <td>1</td>\n",
       "      <td>2</td>\n",
       "      <td>26</td>\n",
       "      <td>17</td>\n",
       "    </tr>\n",
       "    <tr>\n",
       "      <th>3003</th>\n",
       "      <td>2016</td>\n",
       "      <td>455.0</td>\n",
       "      <td>8.0</td>\n",
       "      <td>2</td>\n",
       "      <td>3</td>\n",
       "      <td>29</td>\n",
       "      <td>17</td>\n",
       "    </tr>\n",
       "    <tr>\n",
       "      <th>3841</th>\n",
       "      <td>2016</td>\n",
       "      <td>173.0</td>\n",
       "      <td>4.0</td>\n",
       "      <td>1</td>\n",
       "      <td>2</td>\n",
       "      <td>33</td>\n",
       "      <td>24</td>\n",
       "    </tr>\n",
       "  </tbody>\n",
       "</table>\n",
       "<p>6563 rows × 7 columns</p>\n",
       "</div>"
      ],
      "text/plain": [
       "       Year     HP  Cylinders  Transmission  Wheels  MPG-H  MPG-C\n",
       "2327   2015  180.0        4.0             1       2     28     20\n",
       "11266  2005  185.0        6.0             1       2     24     17\n",
       "7855   2015  330.0        6.0             1       3     26     18\n",
       "4566   2017  282.0        6.0             1       1     23     17\n",
       "2217   2006  225.0        6.0             1       2     27     18\n",
       "...     ...    ...        ...           ...     ...    ...    ...\n",
       "9484   2011  332.0        8.0             1       3     23     20\n",
       "3983   2017  252.0        4.0             1       0     26     20\n",
       "5198   2009  252.0        6.0             1       2     26     17\n",
       "3003   2016  455.0        8.0             2       3     29     17\n",
       "3841   2016  173.0        4.0             1       2     33     24\n",
       "\n",
       "[6563 rows x 7 columns]"
      ]
     },
     "execution_count": 19,
     "metadata": {},
     "output_type": "execute_result"
    }
   ],
   "source": [
    "#We see here that the train test split has assigned 4233 rows and 9 columns to train our model\n",
    "x_train"
   ]
  },
  {
   "cell_type": "code",
   "execution_count": 20,
   "id": "729ca39d",
   "metadata": {},
   "outputs": [
    {
     "data": {
      "text/html": [
       "<div>\n",
       "<style scoped>\n",
       "    .dataframe tbody tr th:only-of-type {\n",
       "        vertical-align: middle;\n",
       "    }\n",
       "\n",
       "    .dataframe tbody tr th {\n",
       "        vertical-align: top;\n",
       "    }\n",
       "\n",
       "    .dataframe thead th {\n",
       "        text-align: right;\n",
       "    }\n",
       "</style>\n",
       "<table border=\"1\" class=\"dataframe\">\n",
       "  <thead>\n",
       "    <tr style=\"text-align: right;\">\n",
       "      <th></th>\n",
       "      <th>Year</th>\n",
       "      <th>HP</th>\n",
       "      <th>Cylinders</th>\n",
       "      <th>Transmission</th>\n",
       "      <th>Wheels</th>\n",
       "      <th>MPG-H</th>\n",
       "      <th>MPG-C</th>\n",
       "    </tr>\n",
       "  </thead>\n",
       "  <tbody>\n",
       "    <tr>\n",
       "      <th>881</th>\n",
       "      <td>1996</td>\n",
       "      <td>200.0</td>\n",
       "      <td>4.0</td>\n",
       "      <td>2</td>\n",
       "      <td>2</td>\n",
       "      <td>25</td>\n",
       "      <td>18</td>\n",
       "    </tr>\n",
       "    <tr>\n",
       "      <th>8010</th>\n",
       "      <td>2009</td>\n",
       "      <td>170.0</td>\n",
       "      <td>5.0</td>\n",
       "      <td>2</td>\n",
       "      <td>2</td>\n",
       "      <td>30</td>\n",
       "      <td>21</td>\n",
       "    </tr>\n",
       "    <tr>\n",
       "      <th>2198</th>\n",
       "      <td>2017</td>\n",
       "      <td>275.0</td>\n",
       "      <td>4.0</td>\n",
       "      <td>1</td>\n",
       "      <td>3</td>\n",
       "      <td>31</td>\n",
       "      <td>22</td>\n",
       "    </tr>\n",
       "    <tr>\n",
       "      <th>4513</th>\n",
       "      <td>2016</td>\n",
       "      <td>282.0</td>\n",
       "      <td>6.0</td>\n",
       "      <td>1</td>\n",
       "      <td>3</td>\n",
       "      <td>25</td>\n",
       "      <td>18</td>\n",
       "    </tr>\n",
       "    <tr>\n",
       "      <th>10832</th>\n",
       "      <td>2002</td>\n",
       "      <td>207.0</td>\n",
       "      <td>6.0</td>\n",
       "      <td>2</td>\n",
       "      <td>3</td>\n",
       "      <td>20</td>\n",
       "      <td>16</td>\n",
       "    </tr>\n",
       "    <tr>\n",
       "      <th>...</th>\n",
       "      <td>...</td>\n",
       "      <td>...</td>\n",
       "      <td>...</td>\n",
       "      <td>...</td>\n",
       "      <td>...</td>\n",
       "      <td>...</td>\n",
       "      <td>...</td>\n",
       "    </tr>\n",
       "    <tr>\n",
       "      <th>9720</th>\n",
       "      <td>2015</td>\n",
       "      <td>245.0</td>\n",
       "      <td>4.0</td>\n",
       "      <td>1</td>\n",
       "      <td>2</td>\n",
       "      <td>32</td>\n",
       "      <td>23</td>\n",
       "    </tr>\n",
       "    <tr>\n",
       "      <th>5121</th>\n",
       "      <td>2013</td>\n",
       "      <td>328.0</td>\n",
       "      <td>6.0</td>\n",
       "      <td>1</td>\n",
       "      <td>3</td>\n",
       "      <td>27</td>\n",
       "      <td>19</td>\n",
       "    </tr>\n",
       "    <tr>\n",
       "      <th>11002</th>\n",
       "      <td>2016</td>\n",
       "      <td>381.0</td>\n",
       "      <td>8.0</td>\n",
       "      <td>1</td>\n",
       "      <td>1</td>\n",
       "      <td>17</td>\n",
       "      <td>13</td>\n",
       "    </tr>\n",
       "    <tr>\n",
       "      <th>9025</th>\n",
       "      <td>2015</td>\n",
       "      <td>285.0</td>\n",
       "      <td>8.0</td>\n",
       "      <td>1</td>\n",
       "      <td>3</td>\n",
       "      <td>17</td>\n",
       "      <td>11</td>\n",
       "    </tr>\n",
       "    <tr>\n",
       "      <th>8508</th>\n",
       "      <td>2017</td>\n",
       "      <td>280.0</td>\n",
       "      <td>6.0</td>\n",
       "      <td>1</td>\n",
       "      <td>0</td>\n",
       "      <td>25</td>\n",
       "      <td>18</td>\n",
       "    </tr>\n",
       "  </tbody>\n",
       "</table>\n",
       "<p>2814 rows × 7 columns</p>\n",
       "</div>"
      ],
      "text/plain": [
       "       Year     HP  Cylinders  Transmission  Wheels  MPG-H  MPG-C\n",
       "881    1996  200.0        4.0             2       2     25     18\n",
       "8010   2009  170.0        5.0             2       2     30     21\n",
       "2198   2017  275.0        4.0             1       3     31     22\n",
       "4513   2016  282.0        6.0             1       3     25     18\n",
       "10832  2002  207.0        6.0             2       3     20     16\n",
       "...     ...    ...        ...           ...     ...    ...    ...\n",
       "9720   2015  245.0        4.0             1       2     32     23\n",
       "5121   2013  328.0        6.0             1       3     27     19\n",
       "11002  2016  381.0        8.0             1       1     17     13\n",
       "9025   2015  285.0        8.0             1       3     17     11\n",
       "8508   2017  280.0        6.0             1       0     25     18\n",
       "\n",
       "[2814 rows x 7 columns]"
      ]
     },
     "execution_count": 20,
     "metadata": {},
     "output_type": "execute_result"
    }
   ],
   "source": [
    "#We see here that the train test split has assigned 1815 rows and 9 columns to test out model\n",
    "x_test"
   ]
  },
  {
   "cell_type": "code",
   "execution_count": 21,
   "id": "5de5784f",
   "metadata": {},
   "outputs": [
    {
     "data": {
      "text/plain": [
       "2327     29505\n",
       "11266    26835\n",
       "7855     51350\n",
       "4566     31185\n",
       "2217     21860\n",
       "         ...  \n",
       "9484     38725\n",
       "3983     42320\n",
       "5198     28480\n",
       "3003     55400\n",
       "3841     19800\n",
       "Name: Price, Length: 6563, dtype: int64"
      ]
     },
     "execution_count": 21,
     "metadata": {},
     "output_type": "execute_result"
    }
   ],
   "source": [
    "y_train"
   ]
  },
  {
   "cell_type": "code",
   "execution_count": 22,
   "id": "5c534c1e",
   "metadata": {},
   "outputs": [
    {
     "data": {
      "text/plain": [
       "881       2000\n",
       "8010     16300\n",
       "2198     26600\n",
       "4513     26540\n",
       "10832    19885\n",
       "         ...  \n",
       "9720     28575\n",
       "5121     32950\n",
       "11002    41720\n",
       "9025     36700\n",
       "8508     41370\n",
       "Name: Price, Length: 2814, dtype: int64"
      ]
     },
     "execution_count": 22,
     "metadata": {},
     "output_type": "execute_result"
    }
   ],
   "source": [
    "y_test"
   ]
  },
  {
   "cell_type": "code",
   "execution_count": 23,
   "id": "b77f9d52",
   "metadata": {},
   "outputs": [
    {
     "name": "stdout",
     "output_type": "stream",
     "text": [
      "(6563, 7)\n",
      "(6563,)\n",
      "(2814, 7)\n",
      "(2814,)\n"
     ]
    }
   ],
   "source": [
    "#Here we see the shape of our x_train, x_test, y_train and y_test\n",
    "print(x_train.shape)\n",
    "print(y_train.shape)\n",
    "print(x_test.shape)\n",
    "print(y_test.shape)"
   ]
  },
  {
   "cell_type": "code",
   "execution_count": 135,
   "id": "ce661944",
   "metadata": {},
   "outputs": [
    {
     "data": {
      "text/plain": [
       "<seaborn.axisgrid.PairGrid at 0x1ddd7ff1c10>"
      ]
     },
     "execution_count": 135,
     "metadata": {},
     "output_type": "execute_result"
    },
    {
     "data": {
      "image/png": "[encoded data removed]",
      "text/plain": [
       "<Figure size 1800x1800 with 110 Axes>"
      ]
     },
     "metadata": {
      "needs_background": "light"
     },
     "output_type": "display_data"
    }
   ],
   "source": [
    "#We visualize a sort of correlation between features in the Dataset using pairplot from seaborn\n",
    "sns.pairplot(df, kind = \"reg\")"
   ]
  },
  {
   "cell_type": "code",
   "execution_count": 25,
   "id": "01d70bd0",
   "metadata": {},
   "outputs": [],
   "source": [
    "corr = df.corr()"
   ]
  },
  {
   "cell_type": "code",
   "execution_count": 26,
   "id": "b2aea2b3",
   "metadata": {},
   "outputs": [
    {
     "data": {
      "text/plain": [
       "<AxesSubplot:>"
      ]
     },
     "execution_count": 26,
     "metadata": {},
     "output_type": "execute_result"
    },
    {
     "data": {
      "image/png": "[encoded data removed]",
      "text/plain": [
       "<Figure size 720x360 with 2 Axes>"
      ]
     },
     "metadata": {
      "needs_background": "light"
     },
     "output_type": "display_data"
    }
   ],
   "source": [
    "#We use the figsize function to adjust the size of the map\n",
    "#We can observe from the heatmap that features which have better correlation are in a lighter box, while those with less correlation are in darker boxes\n",
    "#Annot = True helps display the values/degree of correlation\n",
    "plt.figure(figsize =(10,5))\n",
    "sns.heatmap(corr, annot =True)"
   ]
  },
  {
   "cell_type": "code",
   "execution_count": 27,
   "id": "cda55d6f",
   "metadata": {},
   "outputs": [],
   "source": [
    "#We need to perform normalization on our data set\n",
    "from sklearn.preprocessing import MinMaxScaler\n",
    "ss = MinMaxScaler()"
   ]
  },
  {
   "cell_type": "code",
   "execution_count": 28,
   "id": "fdb20ada",
   "metadata": {},
   "outputs": [],
   "source": [
    "#In Normailzation we fit only our x-train\n",
    "x_train = ss.fit_transform(x_train)\n",
    "x_test = ss.transform(x_test)"
   ]
  },
  {
   "cell_type": "code",
   "execution_count": 29,
   "id": "70e939cb",
   "metadata": {},
   "outputs": [
    {
     "data": {
      "text/plain": [
       "array([[0.91304348, 0.27725118, 0.2       , ..., 0.66666667, 0.51724138,\n",
       "        0.47619048],\n",
       "       [0.47826087, 0.28909953, 0.6       , ..., 0.66666667, 0.37931034,\n",
       "        0.33333333],\n",
       "       [0.91304348, 0.63270142, 0.6       , ..., 1.        , 0.44827586,\n",
       "        0.38095238],\n",
       "       ...,\n",
       "       [0.65217391, 0.4478673 , 0.6       , ..., 0.66666667, 0.44827586,\n",
       "        0.33333333],\n",
       "       [0.95652174, 0.92890995, 1.        , ..., 1.        , 0.55172414,\n",
       "        0.33333333],\n",
       "       [0.95652174, 0.26066351, 0.2       , ..., 0.66666667, 0.68965517,\n",
       "        0.66666667]])"
      ]
     },
     "execution_count": 29,
     "metadata": {},
     "output_type": "execute_result"
    }
   ],
   "source": [
    "x_train"
   ]
  },
  {
   "cell_type": "code",
   "execution_count": 30,
   "id": "58311066",
   "metadata": {},
   "outputs": [
    {
     "data": {
      "text/plain": [
       "array([[0.08695652, 0.32464455, 0.2       , ..., 0.66666667, 0.4137931 ,\n",
       "        0.38095238],\n",
       "       [0.65217391, 0.2535545 , 0.4       , ..., 0.66666667, 0.5862069 ,\n",
       "        0.52380952],\n",
       "       [1.        , 0.50236967, 0.2       , ..., 1.        , 0.62068966,\n",
       "        0.57142857],\n",
       "       ...,\n",
       "       [0.95652174, 0.7535545 , 1.        , ..., 0.33333333, 0.13793103,\n",
       "        0.14285714],\n",
       "       [0.91304348, 0.52606635, 1.        , ..., 1.        , 0.13793103,\n",
       "        0.04761905],\n",
       "       [1.        , 0.51421801, 0.6       , ..., 0.        , 0.4137931 ,\n",
       "        0.38095238]])"
      ]
     },
     "execution_count": 30,
     "metadata": {},
     "output_type": "execute_result"
    }
   ],
   "source": [
    "x_test"
   ]
  },
  {
   "cell_type": "markdown",
   "id": "bd42b067",
   "metadata": {},
   "source": [
    "Linear Regression Algorithm (Multiple Linear Regression)\n",
    "\n",
    "-Linear Regression estimates real values(cost of houses, prices of cars, total sales etc)\n",
    "-Base is continous variables\n",
    "-Establishes a relationship between the Independent and dependent variables by fitting the best line\n",
    "-This best fit line is known as regression line and represented by linear equation y= aX + b\n",
    "\n"
   ]
  },
  {
   "cell_type": "code",
   "execution_count": 31,
   "id": "ef7dde7f",
   "metadata": {},
   "outputs": [],
   "source": [
    "#Y = a1*x1 + a2*x2 + a3*x3 + an*xn + b (Equation for multiple linear regression)\n",
    "#And create an object for our model\n",
    "from sklearn.linear_model import LinearRegression\n",
    "regressor = LinearRegression()"
   ]
  },
  {
   "cell_type": "code",
   "execution_count": 32,
   "id": "bbbc904f",
   "metadata": {},
   "outputs": [
    {
     "data": {
      "text/plain": [
       "LinearRegression()"
      ]
     },
     "execution_count": 32,
     "metadata": {},
     "output_type": "execute_result"
    }
   ],
   "source": [
    "#We fit our x_train and y_train into our Multiple regression model\n",
    "regressor.fit(x_train, y_train) #Training the algorithm"
   ]
  },
  {
   "cell_type": "markdown",
   "id": "d9b8cc37",
   "metadata": {},
   "source": [
    "Interpreting Model coefficients"
   ]
  },
  {
   "cell_type": "code",
   "execution_count": 33,
   "id": "cc71132d",
   "metadata": {},
   "outputs": [
    {
     "data": {
      "text/plain": [
       "1259.8942716773963"
      ]
     },
     "execution_count": 33,
     "metadata": {},
     "output_type": "execute_result"
    }
   ],
   "source": [
    "#Gives the result of the intercept of the equation, which is our b in the Linear equation \n",
    "regressor.intercept_"
   ]
  },
  {
   "cell_type": "code",
   "execution_count": 34,
   "id": "b978cbc5",
   "metadata": {},
   "outputs": [
    {
     "data": {
      "text/plain": [
       "array([16173.51789486, 57226.65055829, -4103.60423117, -8482.20036589,\n",
       "       -4401.00989853,  2806.92269372,  1090.84692217])"
      ]
     },
     "execution_count": 34,
     "metadata": {},
     "output_type": "execute_result"
    }
   ],
   "source": [
    "#Gives us the coefficients of our corresponding values\n",
    "regressor.coef_"
   ]
  },
  {
   "cell_type": "markdown",
   "id": "a0f81526",
   "metadata": {},
   "source": [
    "y= aX +b \n",
    "Price = 16173.5178(independent variables) + 1259.8942\n"
   ]
  },
  {
   "cell_type": "code",
   "execution_count": 134,
   "id": "e329dfbe",
   "metadata": {},
   "outputs": [
    {
     "data": {
      "text/plain": [
       "<AxesSubplot:xlabel='HP', ylabel='Price'>"
      ]
     },
     "execution_count": 134,
     "metadata": {},
     "output_type": "execute_result"
    },
    {
     "data": {
      "image/png": "[encoded data removed]",
      "text/plain": [
       "<Figure size 432x288 with 1 Axes>"
      ]
     },
     "metadata": {
      "needs_background": "light"
     },
     "output_type": "display_data"
    }
   ],
   "source": [
    "sns.regplot(x =\"HP\", y =\"Price\", data = df)"
   ]
  },
  {
   "cell_type": "markdown",
   "id": "de3bc326",
   "metadata": {},
   "source": [
    "Making Prediction with the model(y_pred)"
   ]
  },
  {
   "cell_type": "code",
   "execution_count": 35,
   "id": "c503070c",
   "metadata": {},
   "outputs": [],
   "source": [
    "#Create an object y_pred which we use to predict our outcome/target\n",
    "y_pred = regressor.predict(x_test)"
   ]
  },
  {
   "cell_type": "code",
   "execution_count": 36,
   "id": "c261709e",
   "metadata": {},
   "outputs": [
    {
     "data": {
      "text/plain": [
       "array([13412.12563269, 18304.50054202, 40498.78373288, ...,\n",
       "       51998.60529288, 35239.12711946, 43147.86982992])"
      ]
     },
     "execution_count": 36,
     "metadata": {},
     "output_type": "execute_result"
    }
   ],
   "source": [
    "#Predicted prices\n",
    "y_pred"
   ]
  },
  {
   "cell_type": "code",
   "execution_count": 37,
   "id": "ef71b9a1",
   "metadata": {},
   "outputs": [
    {
     "data": {
      "text/plain": [
       "881       2000\n",
       "8010     16300\n",
       "2198     26600\n",
       "4513     26540\n",
       "10832    19885\n",
       "         ...  \n",
       "9720     28575\n",
       "5121     32950\n",
       "11002    41720\n",
       "9025     36700\n",
       "8508     41370\n",
       "Name: Price, Length: 2814, dtype: int64"
      ]
     },
     "execution_count": 37,
     "metadata": {},
     "output_type": "execute_result"
    }
   ],
   "source": [
    "#These values are values that our model has kept aside for us the test the accuracy of our prediction\n",
    "y_test"
   ]
  },
  {
   "cell_type": "code",
   "execution_count": 38,
   "id": "bc0748ea",
   "metadata": {},
   "outputs": [
    {
     "data": {
      "text/html": [
       "<div>\n",
       "<style scoped>\n",
       "    .dataframe tbody tr th:only-of-type {\n",
       "        vertical-align: middle;\n",
       "    }\n",
       "\n",
       "    .dataframe tbody tr th {\n",
       "        vertical-align: top;\n",
       "    }\n",
       "\n",
       "    .dataframe thead th {\n",
       "        text-align: right;\n",
       "    }\n",
       "</style>\n",
       "<table border=\"1\" class=\"dataframe\">\n",
       "  <thead>\n",
       "    <tr style=\"text-align: right;\">\n",
       "      <th></th>\n",
       "      <th>Actual</th>\n",
       "      <th>Predicted</th>\n",
       "    </tr>\n",
       "  </thead>\n",
       "  <tbody>\n",
       "    <tr>\n",
       "      <th>881</th>\n",
       "      <td>2000</td>\n",
       "      <td>13412.125633</td>\n",
       "    </tr>\n",
       "    <tr>\n",
       "      <th>8010</th>\n",
       "      <td>16300</td>\n",
       "      <td>18304.500542</td>\n",
       "    </tr>\n",
       "    <tr>\n",
       "      <th>2198</th>\n",
       "      <td>26600</td>\n",
       "      <td>40498.783733</td>\n",
       "    </tr>\n",
       "    <tr>\n",
       "      <th>4513</th>\n",
       "      <td>26540</td>\n",
       "      <td>38314.879855</td>\n",
       "    </tr>\n",
       "    <tr>\n",
       "      <th>10832</th>\n",
       "      <td>19885</td>\n",
       "      <td>14884.274087</td>\n",
       "    </tr>\n",
       "    <tr>\n",
       "      <th>...</th>\n",
       "      <td>...</td>\n",
       "      <td>...</td>\n",
       "    </tr>\n",
       "    <tr>\n",
       "      <th>9720</th>\n",
       "      <td>28575</td>\n",
       "      <td>36639.884401</td>\n",
       "    </tr>\n",
       "    <tr>\n",
       "      <th>5121</th>\n",
       "      <td>32950</td>\n",
       "      <td>42688.792658</td>\n",
       "    </tr>\n",
       "    <tr>\n",
       "      <th>11002</th>\n",
       "      <td>41720</td>\n",
       "      <td>51998.605293</td>\n",
       "    </tr>\n",
       "    <tr>\n",
       "      <th>9025</th>\n",
       "      <td>36700</td>\n",
       "      <td>35239.127119</td>\n",
       "    </tr>\n",
       "    <tr>\n",
       "      <th>8508</th>\n",
       "      <td>41370</td>\n",
       "      <td>43147.869830</td>\n",
       "    </tr>\n",
       "  </tbody>\n",
       "</table>\n",
       "<p>2814 rows × 2 columns</p>\n",
       "</div>"
      ],
      "text/plain": [
       "       Actual     Predicted\n",
       "881      2000  13412.125633\n",
       "8010    16300  18304.500542\n",
       "2198    26600  40498.783733\n",
       "4513    26540  38314.879855\n",
       "10832   19885  14884.274087\n",
       "...       ...           ...\n",
       "9720    28575  36639.884401\n",
       "5121    32950  42688.792658\n",
       "11002   41720  51998.605293\n",
       "9025    36700  35239.127119\n",
       "8508    41370  43147.869830\n",
       "\n",
       "[2814 rows x 2 columns]"
      ]
     },
     "execution_count": 38,
     "metadata": {},
     "output_type": "execute_result"
    }
   ],
   "source": [
    "#We create a Dataframe which is a function in pandas to compare our predicted values to our y_test values\n",
    "pd.DataFrame({\"Actual\": y_test, \"Predicted\": y_pred})"
   ]
  },
  {
   "cell_type": "code",
   "execution_count": 39,
   "id": "7a2026c1",
   "metadata": {},
   "outputs": [
    {
     "data": {
      "text/plain": [
       "0.7056042190930913"
      ]
     },
     "execution_count": 39,
     "metadata": {},
     "output_type": "execute_result"
    }
   ],
   "source": [
    "#We check the performance of our testing Data set, to ensure we do not have a model overfit or underfit\n",
    "#We must ensure we have a balanced fit\n",
    "regressor.score(x_test, y_test)"
   ]
  },
  {
   "cell_type": "code",
   "execution_count": 40,
   "id": "e889be21",
   "metadata": {},
   "outputs": [
    {
     "data": {
      "text/plain": [
       "0.7089790161258096"
      ]
     },
     "execution_count": 40,
     "metadata": {},
     "output_type": "execute_result"
    }
   ],
   "source": [
    "#We check the performance of our training Data set\n",
    "#We can observe that we have a balanced fit because our training and testing dataset perform okay\n",
    "regressor.score(x_train, y_train)"
   ]
  },
  {
   "cell_type": "markdown",
   "id": "4d348afa",
   "metadata": {},
   "source": [
    "Model Evaluation Metrics(MAE, MSE, RMSE, R2Score)\n",
    "Mean Absolute Error = (m1 + m2 +m3 +m4 +m5 +m6 +m7 )/7: the summation of the absolute difference between the actual and calculated values of each observation over the entire array and then divided by the sum obtained by the number of observations in the array.\n",
    "\n",
    "Mean Squared Error = (1/n) * Σ(actual – prediction)2: the average of the square of the difference between the observed and predicted values of a variable. the lower the better our accuracy in predicting.\n",
    "\n",
    "Root Mean Squared Error = standard deviation of the predicted errors\n",
    "r2 Score =  Indicates the percentage of the variance in the dependent variable that the independent variables explain collectively, i.e the proportion of variation in the dependent variable."
   ]
  },
  {
   "cell_type": "code",
   "execution_count": 41,
   "id": "42b15ee1",
   "metadata": {},
   "outputs": [],
   "source": [
    "#From sklearn we import mertrics which will help evaluate our model.\n",
    "from sklearn import metrics as m"
   ]
  },
  {
   "cell_type": "code",
   "execution_count": 42,
   "id": "a77326b3",
   "metadata": {},
   "outputs": [],
   "source": [
    "from sklearn.metrics import r2_score"
   ]
  },
  {
   "cell_type": "code",
   "execution_count": 43,
   "id": "9e3120d7",
   "metadata": {},
   "outputs": [
    {
     "name": "stdout",
     "output_type": "stream",
     "text": [
      "Mean Absolute Error 6247.314547405477\n",
      "Mean Squared Error 65789469.7129828\n",
      "Root Mean Squared Error 8111.070811735205\n",
      "r2 Score 0.7056042190930913\n"
     ]
    }
   ],
   "source": [
    "print(\"Mean Absolute Error\", m.mean_absolute_error(y_test, y_pred))\n",
    "print(\"Mean Squared Error\", m.mean_squared_error(y_test,y_pred))\n",
    "print(\"Root Mean Squared Error\", np.sqrt(m.mean_squared_error(y_test, y_pred)))\n",
    "print(\"r2 Score\", r2_score(y_test,y_pred))\n"
   ]
  },
  {
   "cell_type": "markdown",
   "id": "37bfd194",
   "metadata": {},
   "source": [
    "Rigde Regression Algorithm(L2 Regularization):Ridge rregressio adds squared magnitude of coefficient as penalty term to the loss function."
   ]
  },
  {
   "cell_type": "code",
   "execution_count": 44,
   "id": "5ba9cef6",
   "metadata": {},
   "outputs": [],
   "source": [
    "#We import Ridge from sklearn linear model\n",
    "from sklearn.linear_model import Ridge"
   ]
  },
  {
   "cell_type": "code",
   "execution_count": 45,
   "id": "abd6aa46",
   "metadata": {},
   "outputs": [],
   "source": [
    "#We create an object for our model\n",
    "ridge_regressor = Ridge(alpha =1.0)"
   ]
  },
  {
   "cell_type": "code",
   "execution_count": 46,
   "id": "b040e320",
   "metadata": {},
   "outputs": [
    {
     "data": {
      "text/plain": [
       "Ridge()"
      ]
     },
     "execution_count": 46,
     "metadata": {},
     "output_type": "execute_result"
    }
   ],
   "source": [
    "#We fit our x_train and y_train into our Ridge Model\n",
    "ridge_regressor.fit(x_train, y_train) #Training Dataset"
   ]
  },
  {
   "cell_type": "code",
   "execution_count": 47,
   "id": "8d852e96",
   "metadata": {},
   "outputs": [
    {
     "data": {
      "text/plain": [
       "0.7058249082330322"
      ]
     },
     "execution_count": 47,
     "metadata": {},
     "output_type": "execute_result"
    }
   ],
   "source": [
    "#We check the performance of our testing Data set, to ensure we do not have a model overfit or underfit\n",
    "#We must ensure we have a balanced fit\n",
    "ridge_regressor.score(x_test, y_test)"
   ]
  },
  {
   "cell_type": "code",
   "execution_count": 48,
   "id": "cd6b80fb",
   "metadata": {},
   "outputs": [
    {
     "data": {
      "text/plain": [
       "0.7089467513497176"
      ]
     },
     "execution_count": 48,
     "metadata": {},
     "output_type": "execute_result"
    }
   ],
   "source": [
    "#We check the performance of our training Data set\n",
    "#We can observe that we have a balanced fit because our training and testing dataset perform okay\n",
    "ridge_regressor.score(x_train, y_train)"
   ]
  },
  {
   "cell_type": "code",
   "execution_count": 49,
   "id": "893015cb",
   "metadata": {},
   "outputs": [],
   "source": [
    "#Here we create an object for prediction\n",
    "y_pred_ridge = ridge_regressor.predict(x_test)"
   ]
  },
  {
   "cell_type": "code",
   "execution_count": 50,
   "id": "f0b6e45d",
   "metadata": {},
   "outputs": [
    {
     "data": {
      "text/plain": [
       "array([13237.83868614, 18399.87605345, 40343.99833357, ...,\n",
       "       51976.32089395, 35436.58520278, 43178.37611218])"
      ]
     },
     "execution_count": 50,
     "metadata": {},
     "output_type": "execute_result"
    }
   ],
   "source": [
    "y_pred_ridge"
   ]
  },
  {
   "cell_type": "code",
   "execution_count": 51,
   "id": "3caeb585",
   "metadata": {},
   "outputs": [
    {
     "data": {
      "text/html": [
       "<div>\n",
       "<style scoped>\n",
       "    .dataframe tbody tr th:only-of-type {\n",
       "        vertical-align: middle;\n",
       "    }\n",
       "\n",
       "    .dataframe tbody tr th {\n",
       "        vertical-align: top;\n",
       "    }\n",
       "\n",
       "    .dataframe thead th {\n",
       "        text-align: right;\n",
       "    }\n",
       "</style>\n",
       "<table border=\"1\" class=\"dataframe\">\n",
       "  <thead>\n",
       "    <tr style=\"text-align: right;\">\n",
       "      <th></th>\n",
       "      <th>Actual</th>\n",
       "      <th>Predicted</th>\n",
       "    </tr>\n",
       "  </thead>\n",
       "  <tbody>\n",
       "    <tr>\n",
       "      <th>881</th>\n",
       "      <td>2000</td>\n",
       "      <td>13237.838686</td>\n",
       "    </tr>\n",
       "    <tr>\n",
       "      <th>8010</th>\n",
       "      <td>16300</td>\n",
       "      <td>18399.876053</td>\n",
       "    </tr>\n",
       "    <tr>\n",
       "      <th>2198</th>\n",
       "      <td>26600</td>\n",
       "      <td>40343.998334</td>\n",
       "    </tr>\n",
       "    <tr>\n",
       "      <th>4513</th>\n",
       "      <td>26540</td>\n",
       "      <td>38313.569581</td>\n",
       "    </tr>\n",
       "    <tr>\n",
       "      <th>10832</th>\n",
       "      <td>19885</td>\n",
       "      <td>14909.151504</td>\n",
       "    </tr>\n",
       "    <tr>\n",
       "      <th>...</th>\n",
       "      <td>...</td>\n",
       "      <td>...</td>\n",
       "    </tr>\n",
       "    <tr>\n",
       "      <th>9720</th>\n",
       "      <td>28575</td>\n",
       "      <td>36523.495240</td>\n",
       "    </tr>\n",
       "    <tr>\n",
       "      <th>5121</th>\n",
       "      <td>32950</td>\n",
       "      <td>42550.982481</td>\n",
       "    </tr>\n",
       "    <tr>\n",
       "      <th>11002</th>\n",
       "      <td>41720</td>\n",
       "      <td>51976.320894</td>\n",
       "    </tr>\n",
       "    <tr>\n",
       "      <th>9025</th>\n",
       "      <td>36700</td>\n",
       "      <td>35436.585203</td>\n",
       "    </tr>\n",
       "    <tr>\n",
       "      <th>8508</th>\n",
       "      <td>41370</td>\n",
       "      <td>43178.376112</td>\n",
       "    </tr>\n",
       "  </tbody>\n",
       "</table>\n",
       "<p>2814 rows × 2 columns</p>\n",
       "</div>"
      ],
      "text/plain": [
       "       Actual     Predicted\n",
       "881      2000  13237.838686\n",
       "8010    16300  18399.876053\n",
       "2198    26600  40343.998334\n",
       "4513    26540  38313.569581\n",
       "10832   19885  14909.151504\n",
       "...       ...           ...\n",
       "9720    28575  36523.495240\n",
       "5121    32950  42550.982481\n",
       "11002   41720  51976.320894\n",
       "9025    36700  35436.585203\n",
       "8508    41370  43178.376112\n",
       "\n",
       "[2814 rows x 2 columns]"
      ]
     },
     "execution_count": 51,
     "metadata": {},
     "output_type": "execute_result"
    }
   ],
   "source": [
    "#We create a Dataframe which is a function in pandas to compare our predicted values to our y_test values\n",
    "pd.DataFrame({\"Actual\": y_test, \"Predicted\": y_pred_ridge})"
   ]
  },
  {
   "cell_type": "markdown",
   "id": "f22f117c",
   "metadata": {},
   "source": [
    "Model Evaluation for Ridge Regression Algorthm "
   ]
  },
  {
   "cell_type": "code",
   "execution_count": 52,
   "id": "086303f1",
   "metadata": {},
   "outputs": [
    {
     "name": "stdout",
     "output_type": "stream",
     "text": [
      "Mean Absolute Error 6245.958770494376\n",
      "Mean Squared Error 65740151.67777387\n",
      "Root Mean Squared Error 8108.030073807933\n",
      "r2 Score 0.7058249082330322\n"
     ]
    }
   ],
   "source": [
    "print(\"Mean Absolute Error\", m.mean_absolute_error(y_test, y_pred_ridge))\n",
    "print(\"Mean Squared Error\", m.mean_squared_error(y_test,y_pred_ridge))\n",
    "print(\"Root Mean Squared Error\", np.sqrt(m.mean_squared_error(y_test, y_pred_ridge)))\n",
    "print(\"r2 Score\", r2_score(y_test,y_pred_ridge))"
   ]
  },
  {
   "cell_type": "markdown",
   "id": "efcdc980",
   "metadata": {},
   "source": [
    "RidgeCV Regression Algorithm"
   ]
  },
  {
   "cell_type": "code",
   "execution_count": 53,
   "id": "34fd6f7e",
   "metadata": {},
   "outputs": [],
   "source": [
    "#Import RidgeCV from sklearn linear model\n",
    "from sklearn.linear_model import RidgeCV"
   ]
  },
  {
   "cell_type": "code",
   "execution_count": 54,
   "id": "50cdde7b",
   "metadata": {},
   "outputs": [],
   "source": [
    "#Create an object for our RidgeCV model\n",
    "regressor_cv = RidgeCV()"
   ]
  },
  {
   "cell_type": "code",
   "execution_count": 55,
   "id": "9afeef5a",
   "metadata": {},
   "outputs": [
    {
     "data": {
      "text/plain": [
       "RidgeCV(alphas=array([ 0.1,  1. , 10. ]))"
      ]
     },
     "execution_count": 55,
     "metadata": {},
     "output_type": "execute_result"
    }
   ],
   "source": [
    "#Fits x_train and y_train into our ridgeCv model\n",
    "regressor_cv.fit(x_train, y_train)"
   ]
  },
  {
   "cell_type": "code",
   "execution_count": 56,
   "id": "6a074798",
   "metadata": {},
   "outputs": [
    {
     "data": {
      "text/plain": [
       "0.7056297853291282"
      ]
     },
     "execution_count": 56,
     "metadata": {},
     "output_type": "execute_result"
    }
   ],
   "source": [
    "#We check the performance of our testing Data set, to ensure we do not have a model overfit or underfit by calling the score function\n",
    "#We must ensure we have a balanced fit\n",
    "regressor_cv.score(x_test, y_test)"
   ]
  },
  {
   "cell_type": "code",
   "execution_count": 57,
   "id": "bd6023cd",
   "metadata": {},
   "outputs": [
    {
     "data": {
      "text/plain": [
       "0.708978678876335"
      ]
     },
     "execution_count": 57,
     "metadata": {},
     "output_type": "execute_result"
    }
   ],
   "source": [
    "#We check the performance of our training Data set\n",
    "#We can observe that we have a balanced fit because our training and testing dataset perform okay by calling the score function\n",
    "regressor_cv.score(x_train, y_train)"
   ]
  },
  {
   "cell_type": "code",
   "execution_count": 58,
   "id": "ea188a7d",
   "metadata": {},
   "outputs": [],
   "source": [
    "#create an object y_pred_cv to predict \n",
    "y_pred_cv = regressor_cv.predict(x_test)"
   ]
  },
  {
   "cell_type": "code",
   "execution_count": 59,
   "id": "ad61ed90",
   "metadata": {},
   "outputs": [
    {
     "data": {
      "text/plain": [
       "array([13394.25777038, 18314.31767173, 40483.00426946, ...,\n",
       "       51996.28500202, 35259.4212498 , 43151.04935769])"
      ]
     },
     "execution_count": 59,
     "metadata": {},
     "output_type": "execute_result"
    }
   ],
   "source": [
    "y_pred_cv"
   ]
  },
  {
   "cell_type": "code",
   "execution_count": 60,
   "id": "24375ebe",
   "metadata": {},
   "outputs": [
    {
     "data": {
      "text/html": [
       "<div>\n",
       "<style scoped>\n",
       "    .dataframe tbody tr th:only-of-type {\n",
       "        vertical-align: middle;\n",
       "    }\n",
       "\n",
       "    .dataframe tbody tr th {\n",
       "        vertical-align: top;\n",
       "    }\n",
       "\n",
       "    .dataframe thead th {\n",
       "        text-align: right;\n",
       "    }\n",
       "</style>\n",
       "<table border=\"1\" class=\"dataframe\">\n",
       "  <thead>\n",
       "    <tr style=\"text-align: right;\">\n",
       "      <th></th>\n",
       "      <th>Actual</th>\n",
       "      <th>Predicted</th>\n",
       "    </tr>\n",
       "  </thead>\n",
       "  <tbody>\n",
       "    <tr>\n",
       "      <th>881</th>\n",
       "      <td>2000</td>\n",
       "      <td>13394.257770</td>\n",
       "    </tr>\n",
       "    <tr>\n",
       "      <th>8010</th>\n",
       "      <td>16300</td>\n",
       "      <td>18314.317672</td>\n",
       "    </tr>\n",
       "    <tr>\n",
       "      <th>2198</th>\n",
       "      <td>26600</td>\n",
       "      <td>40483.004269</td>\n",
       "    </tr>\n",
       "    <tr>\n",
       "      <th>4513</th>\n",
       "      <td>26540</td>\n",
       "      <td>38314.758931</td>\n",
       "    </tr>\n",
       "    <tr>\n",
       "      <th>10832</th>\n",
       "      <td>19885</td>\n",
       "      <td>14886.652462</td>\n",
       "    </tr>\n",
       "    <tr>\n",
       "      <th>...</th>\n",
       "      <td>...</td>\n",
       "      <td>...</td>\n",
       "    </tr>\n",
       "    <tr>\n",
       "      <th>9720</th>\n",
       "      <td>28575</td>\n",
       "      <td>36628.019391</td>\n",
       "    </tr>\n",
       "    <tr>\n",
       "      <th>5121</th>\n",
       "      <td>32950</td>\n",
       "      <td>42674.726818</td>\n",
       "    </tr>\n",
       "    <tr>\n",
       "      <th>11002</th>\n",
       "      <td>41720</td>\n",
       "      <td>51996.285002</td>\n",
       "    </tr>\n",
       "    <tr>\n",
       "      <th>9025</th>\n",
       "      <td>36700</td>\n",
       "      <td>35259.421250</td>\n",
       "    </tr>\n",
       "    <tr>\n",
       "      <th>8508</th>\n",
       "      <td>41370</td>\n",
       "      <td>43151.049358</td>\n",
       "    </tr>\n",
       "  </tbody>\n",
       "</table>\n",
       "<p>2814 rows × 2 columns</p>\n",
       "</div>"
      ],
      "text/plain": [
       "       Actual     Predicted\n",
       "881      2000  13394.257770\n",
       "8010    16300  18314.317672\n",
       "2198    26600  40483.004269\n",
       "4513    26540  38314.758931\n",
       "10832   19885  14886.652462\n",
       "...       ...           ...\n",
       "9720    28575  36628.019391\n",
       "5121    32950  42674.726818\n",
       "11002   41720  51996.285002\n",
       "9025    36700  35259.421250\n",
       "8508    41370  43151.049358\n",
       "\n",
       "[2814 rows x 2 columns]"
      ]
     },
     "execution_count": 60,
     "metadata": {},
     "output_type": "execute_result"
    }
   ],
   "source": [
    "#We create a Dataframe which is a function in pandas to compare our predicted values to our y_test values\n",
    "pd.DataFrame({\"Actual\": y_test, \"Predicted\": y_pred_cv})"
   ]
  },
  {
   "cell_type": "markdown",
   "id": "03214d7c",
   "metadata": {},
   "source": [
    "Model Evaluation for RidgeCV Algorithm (MAE, MSE, RSME, r2Score)"
   ]
  },
  {
   "cell_type": "code",
   "execution_count": 61,
   "id": "b17f642f",
   "metadata": {},
   "outputs": [
    {
     "name": "stdout",
     "output_type": "stream",
     "text": [
      "Mean Absolute Error 6247.135450749047\n",
      "Mean Squared Error 65783756.352872\n",
      "Root Mean Squared Error 8110.718608907105\n",
      "r2 Score 0.7056297853291282\n"
     ]
    }
   ],
   "source": [
    "print(\"Mean Absolute Error\", m.mean_absolute_error(y_test, y_pred_cv))\n",
    "print(\"Mean Squared Error\", m.mean_squared_error(y_test,y_pred_cv))\n",
    "print(\"Root Mean Squared Error\", np.sqrt(m.mean_squared_error(y_test, y_pred_cv)))\n",
    "print(\"r2 Score\", r2_score(y_test,y_pred_cv))"
   ]
  },
  {
   "cell_type": "markdown",
   "id": "a19f8c8c",
   "metadata": {},
   "source": [
    "Lasso Regression Algorithm(Least Absolute Shrinkage and sekection operator): Lasso regression adds absolute value of magnitude of coefficient as penalty term to the loss function "
   ]
  },
  {
   "cell_type": "code",
   "execution_count": 62,
   "id": "6bf44156",
   "metadata": {},
   "outputs": [],
   "source": [
    "#imports Lasso algorithm which is a linear model from sklearn\n",
    "from sklearn.linear_model import Lasso"
   ]
  },
  {
   "cell_type": "code",
   "execution_count": 63,
   "id": "c1b51592",
   "metadata": {},
   "outputs": [],
   "source": [
    "#create an instance for the model\n",
    "regressor_lasso = Lasso()"
   ]
  },
  {
   "cell_type": "code",
   "execution_count": 64,
   "id": "8810d3b5",
   "metadata": {},
   "outputs": [
    {
     "data": {
      "text/plain": [
       "Lasso()"
      ]
     },
     "execution_count": 64,
     "metadata": {},
     "output_type": "execute_result"
    }
   ],
   "source": [
    "#fit the model \n",
    "regressor_lasso.fit(x_train, y_train)"
   ]
  },
  {
   "cell_type": "code",
   "execution_count": 65,
   "id": "a0ea2f57",
   "metadata": {},
   "outputs": [
    {
     "data": {
      "text/plain": [
       "0.7056526443685409"
      ]
     },
     "execution_count": 65,
     "metadata": {},
     "output_type": "execute_result"
    }
   ],
   "source": [
    "#We check the performance of our testing Data set, to ensure we do not have a model overfit or underfit\n",
    "#We must ensure we have a balanced fit\n",
    "regressor_lasso.score(x_test, y_test)"
   ]
  },
  {
   "cell_type": "code",
   "execution_count": 66,
   "id": "5c624ae7",
   "metadata": {},
   "outputs": [
    {
     "data": {
      "text/plain": [
       "0.7089778183077655"
      ]
     },
     "execution_count": 66,
     "metadata": {},
     "output_type": "execute_result"
    }
   ],
   "source": [
    "#We check the performance of our training Data set\n",
    "#We can observe that we have a balanced fit because our training and testing dataset perform okay\n",
    "regressor_lasso.score(x_train, y_train)"
   ]
  },
  {
   "cell_type": "code",
   "execution_count": 67,
   "id": "09d63a72",
   "metadata": {},
   "outputs": [],
   "source": [
    "y_pred_lasso = regressor_lasso.predict(x_test)"
   ]
  },
  {
   "cell_type": "code",
   "execution_count": 68,
   "id": "972cefa0",
   "metadata": {},
   "outputs": [
    {
     "data": {
      "text/plain": [
       "array([13391.06850848, 18328.3718782 , 40470.80981858, ...,\n",
       "       51998.89889762, 35282.70740271, 43151.3694366 ])"
      ]
     },
     "execution_count": 68,
     "metadata": {},
     "output_type": "execute_result"
    }
   ],
   "source": [
    "y_pred_lasso"
   ]
  },
  {
   "cell_type": "code",
   "execution_count": 69,
   "id": "e680b4d3",
   "metadata": {},
   "outputs": [
    {
     "data": {
      "text/html": [
       "<div>\n",
       "<style scoped>\n",
       "    .dataframe tbody tr th:only-of-type {\n",
       "        vertical-align: middle;\n",
       "    }\n",
       "\n",
       "    .dataframe tbody tr th {\n",
       "        vertical-align: top;\n",
       "    }\n",
       "\n",
       "    .dataframe thead th {\n",
       "        text-align: right;\n",
       "    }\n",
       "</style>\n",
       "<table border=\"1\" class=\"dataframe\">\n",
       "  <thead>\n",
       "    <tr style=\"text-align: right;\">\n",
       "      <th></th>\n",
       "      <th>Actual</th>\n",
       "      <th>Predicted</th>\n",
       "    </tr>\n",
       "  </thead>\n",
       "  <tbody>\n",
       "    <tr>\n",
       "      <th>881</th>\n",
       "      <td>2000</td>\n",
       "      <td>13391.068508</td>\n",
       "    </tr>\n",
       "    <tr>\n",
       "      <th>8010</th>\n",
       "      <td>16300</td>\n",
       "      <td>18328.371878</td>\n",
       "    </tr>\n",
       "    <tr>\n",
       "      <th>2198</th>\n",
       "      <td>26600</td>\n",
       "      <td>40470.809819</td>\n",
       "    </tr>\n",
       "    <tr>\n",
       "      <th>4513</th>\n",
       "      <td>26540</td>\n",
       "      <td>38316.543697</td>\n",
       "    </tr>\n",
       "    <tr>\n",
       "      <th>10832</th>\n",
       "      <td>19885</td>\n",
       "      <td>14899.921996</td>\n",
       "    </tr>\n",
       "    <tr>\n",
       "      <th>...</th>\n",
       "      <td>...</td>\n",
       "      <td>...</td>\n",
       "    </tr>\n",
       "    <tr>\n",
       "      <th>9720</th>\n",
       "      <td>28575</td>\n",
       "      <td>36615.418520</td>\n",
       "    </tr>\n",
       "    <tr>\n",
       "      <th>5121</th>\n",
       "      <td>32950</td>\n",
       "      <td>42665.975553</td>\n",
       "    </tr>\n",
       "    <tr>\n",
       "      <th>11002</th>\n",
       "      <td>41720</td>\n",
       "      <td>51998.898898</td>\n",
       "    </tr>\n",
       "    <tr>\n",
       "      <th>9025</th>\n",
       "      <td>36700</td>\n",
       "      <td>35282.707403</td>\n",
       "    </tr>\n",
       "    <tr>\n",
       "      <th>8508</th>\n",
       "      <td>41370</td>\n",
       "      <td>43151.369437</td>\n",
       "    </tr>\n",
       "  </tbody>\n",
       "</table>\n",
       "<p>2814 rows × 2 columns</p>\n",
       "</div>"
      ],
      "text/plain": [
       "       Actual     Predicted\n",
       "881      2000  13391.068508\n",
       "8010    16300  18328.371878\n",
       "2198    26600  40470.809819\n",
       "4513    26540  38316.543697\n",
       "10832   19885  14899.921996\n",
       "...       ...           ...\n",
       "9720    28575  36615.418520\n",
       "5121    32950  42665.975553\n",
       "11002   41720  51998.898898\n",
       "9025    36700  35282.707403\n",
       "8508    41370  43151.369437\n",
       "\n",
       "[2814 rows x 2 columns]"
      ]
     },
     "execution_count": 69,
     "metadata": {},
     "output_type": "execute_result"
    }
   ],
   "source": [
    "#We create a Dataframe which is a function in pandas to compare our predicted values to our y_test values\n",
    "pd.DataFrame({\"Actual\": y_test, \"Predicted\": y_pred_lasso})"
   ]
  },
  {
   "cell_type": "markdown",
   "id": "1aa511f4",
   "metadata": {},
   "source": [
    "Lasso Model Evaluation (MAE, MSE, RMSE, r2score)"
   ]
  },
  {
   "cell_type": "code",
   "execution_count": 70,
   "id": "fe6072c4",
   "metadata": {},
   "outputs": [
    {
     "name": "stdout",
     "output_type": "stream",
     "text": [
      "Mean Absolute Error 6246.606900957717\n",
      "Mean Squared Error 65778647.97775713\n",
      "Root Mean Squared Error 8110.403687718456\n",
      "r2 Score 0.7056526443685409\n"
     ]
    }
   ],
   "source": [
    "print(\"Mean Absolute Error\", m.mean_absolute_error(y_test, y_pred_lasso))\n",
    "print(\"Mean Squared Error\", m.mean_squared_error(y_test,y_pred_lasso))\n",
    "print(\"Root Mean Squared Error\", np.sqrt(m.mean_squared_error(y_test, y_pred_lasso)))\n",
    "print(\"r2 Score\", r2_score(y_test,y_pred_lasso))"
   ]
  },
  {
   "cell_type": "markdown",
   "id": "6edf24a6",
   "metadata": {},
   "source": [
    "LassoCV Regression Algorithm"
   ]
  },
  {
   "cell_type": "code",
   "execution_count": 71,
   "id": "d22d9107",
   "metadata": {},
   "outputs": [],
   "source": [
    "#imports LassoCV linear model from sklearn\n",
    "from sklearn.linear_model import LassoCV"
   ]
  },
  {
   "cell_type": "code",
   "execution_count": 72,
   "id": "26b85420",
   "metadata": {},
   "outputs": [],
   "source": [
    "#Create an instance for the model\n",
    "regressor_lasso_cv = LassoCV()"
   ]
  },
  {
   "cell_type": "code",
   "execution_count": 73,
   "id": "16a1aefd",
   "metadata": {},
   "outputs": [
    {
     "data": {
      "text/plain": [
       "LassoCV()"
      ]
     },
     "execution_count": 73,
     "metadata": {},
     "output_type": "execute_result"
    }
   ],
   "source": [
    "#fits out x_train and y_train(independent training set and dependent training set)\n",
    "regressor_lasso_cv.fit(x_train, y_train)"
   ]
  },
  {
   "cell_type": "code",
   "execution_count": 74,
   "id": "6d983453",
   "metadata": {},
   "outputs": [
    {
     "data": {
      "text/plain": [
       "0.7057249856614964"
      ]
     },
     "execution_count": 74,
     "metadata": {},
     "output_type": "execute_result"
    }
   ],
   "source": [
    "#We check the performance of our testing Data set, to ensure we do not have a model overfit or underfit\n",
    "#We must ensure we have a balanced fit\n",
    "regressor_lasso_cv.score(x_test, y_test)"
   ]
  },
  {
   "cell_type": "code",
   "execution_count": 75,
   "id": "e661ca9e",
   "metadata": {},
   "outputs": [
    {
     "data": {
      "text/plain": [
       "0.7089715668538553"
      ]
     },
     "execution_count": 75,
     "metadata": {},
     "output_type": "execute_result"
    }
   ],
   "source": [
    "#We check the performance of our training Data set\n",
    "#We can observe that we have a balanced fit because our training and testing dataset perform okay\n",
    "regressor_lasso_cv.score(x_train, y_train)"
   ]
  },
  {
   "cell_type": "code",
   "execution_count": 76,
   "id": "7fbdc732",
   "metadata": {},
   "outputs": [],
   "source": [
    "#create an object y_pred_lasso_cv to predict the outcome\n",
    "y_pred_lasso_cv =regressor_lasso_cv.predict(x_test)"
   ]
  },
  {
   "cell_type": "code",
   "execution_count": 77,
   "id": "92ea1f23",
   "metadata": {},
   "outputs": [
    {
     "data": {
      "text/plain": [
       "array([13359.46837272, 18362.30075173, 40428.65103145, ...,\n",
       "       52001.83929376, 35347.82139771, 43156.04476018])"
      ]
     },
     "execution_count": 77,
     "metadata": {},
     "output_type": "execute_result"
    }
   ],
   "source": [
    "#displays the predicted values\n",
    "y_pred_lasso_cv"
   ]
  },
  {
   "cell_type": "code",
   "execution_count": 78,
   "id": "64380d75",
   "metadata": {},
   "outputs": [
    {
     "data": {
      "text/html": [
       "<div>\n",
       "<style scoped>\n",
       "    .dataframe tbody tr th:only-of-type {\n",
       "        vertical-align: middle;\n",
       "    }\n",
       "\n",
       "    .dataframe tbody tr th {\n",
       "        vertical-align: top;\n",
       "    }\n",
       "\n",
       "    .dataframe thead th {\n",
       "        text-align: right;\n",
       "    }\n",
       "</style>\n",
       "<table border=\"1\" class=\"dataframe\">\n",
       "  <thead>\n",
       "    <tr style=\"text-align: right;\">\n",
       "      <th></th>\n",
       "      <th>Actual</th>\n",
       "      <th>Predicted</th>\n",
       "    </tr>\n",
       "  </thead>\n",
       "  <tbody>\n",
       "    <tr>\n",
       "      <th>881</th>\n",
       "      <td>2000</td>\n",
       "      <td>13359.468373</td>\n",
       "    </tr>\n",
       "    <tr>\n",
       "      <th>8010</th>\n",
       "      <td>16300</td>\n",
       "      <td>18362.300752</td>\n",
       "    </tr>\n",
       "    <tr>\n",
       "      <th>2198</th>\n",
       "      <td>26600</td>\n",
       "      <td>40428.651031</td>\n",
       "    </tr>\n",
       "    <tr>\n",
       "      <th>4513</th>\n",
       "      <td>26540</td>\n",
       "      <td>38319.777914</td>\n",
       "    </tr>\n",
       "    <tr>\n",
       "      <th>10832</th>\n",
       "      <td>19885</td>\n",
       "      <td>14926.739329</td>\n",
       "    </tr>\n",
       "    <tr>\n",
       "      <th>...</th>\n",
       "      <td>...</td>\n",
       "      <td>...</td>\n",
       "    </tr>\n",
       "    <tr>\n",
       "      <th>9720</th>\n",
       "      <td>28575</td>\n",
       "      <td>36577.999227</td>\n",
       "    </tr>\n",
       "    <tr>\n",
       "      <th>5121</th>\n",
       "      <td>32950</td>\n",
       "      <td>42631.654438</td>\n",
       "    </tr>\n",
       "    <tr>\n",
       "      <th>11002</th>\n",
       "      <td>41720</td>\n",
       "      <td>52001.839294</td>\n",
       "    </tr>\n",
       "    <tr>\n",
       "      <th>9025</th>\n",
       "      <td>36700</td>\n",
       "      <td>35347.821398</td>\n",
       "    </tr>\n",
       "    <tr>\n",
       "      <th>8508</th>\n",
       "      <td>41370</td>\n",
       "      <td>43156.044760</td>\n",
       "    </tr>\n",
       "  </tbody>\n",
       "</table>\n",
       "<p>2814 rows × 2 columns</p>\n",
       "</div>"
      ],
      "text/plain": [
       "       Actual     Predicted\n",
       "881      2000  13359.468373\n",
       "8010    16300  18362.300752\n",
       "2198    26600  40428.651031\n",
       "4513    26540  38319.777914\n",
       "10832   19885  14926.739329\n",
       "...       ...           ...\n",
       "9720    28575  36577.999227\n",
       "5121    32950  42631.654438\n",
       "11002   41720  52001.839294\n",
       "9025    36700  35347.821398\n",
       "8508    41370  43156.044760\n",
       "\n",
       "[2814 rows x 2 columns]"
      ]
     },
     "execution_count": 78,
     "metadata": {},
     "output_type": "execute_result"
    }
   ],
   "source": [
    "#We create a Dataframe which is a function in pandas to compare our predicted values to our y_test values\n",
    "pd.DataFrame({\"Actual\": y_test, \"Predicted\": y_pred_lasso_cv})"
   ]
  },
  {
   "cell_type": "markdown",
   "id": "29fe34ca",
   "metadata": {},
   "source": [
    "LassoCV Model Evaluation (MAE, MSE, RMSE, r2score)"
   ]
  },
  {
   "cell_type": "code",
   "execution_count": 79,
   "id": "91abb091",
   "metadata": {},
   "outputs": [
    {
     "name": "stdout",
     "output_type": "stream",
     "text": [
      "Mean Absolute Error 6245.511282685712\n",
      "Mean Squared Error 65762481.66148984\n",
      "Root Mean Squared Error 8109.406985809125\n",
      "r2 Score 0.7057249856614964\n"
     ]
    }
   ],
   "source": [
    "print(\"Mean Absolute Error\", m.mean_absolute_error(y_test, y_pred_lasso_cv))\n",
    "print(\"Mean Squared Error\", m.mean_squared_error(y_test,y_pred_lasso_cv))\n",
    "print(\"Root Mean Squared Error\", np.sqrt(m.mean_squared_error(y_test, y_pred_lasso_cv)))\n",
    "print(\"r2 Score\", r2_score(y_test,y_pred_lasso_cv))"
   ]
  },
  {
   "cell_type": "markdown",
   "id": "01bf5665",
   "metadata": {},
   "source": [
    " DECISION TREE REGRESSOR FOR REGRESSION TASK; Because our task is a regression task, we import the Regression version of Decision Tree from Sklearn. Decision Tree is considered to be the most understandable algorithm. "
   ]
  },
  {
   "cell_type": "code",
   "execution_count": 80,
   "id": "24c6bd8d",
   "metadata": {},
   "outputs": [],
   "source": [
    "#imports DecisionTreeRegressor from sklearn\n",
    "from sklearn.tree import DecisionTreeRegressor"
   ]
  },
  {
   "cell_type": "code",
   "execution_count": 81,
   "id": "16b77c13",
   "metadata": {},
   "outputs": [],
   "source": [
    "dc = DecisionTreeRegressor(criterion =\"mse\")"
   ]
  },
  {
   "cell_type": "code",
   "execution_count": 82,
   "id": "506bacf7",
   "metadata": {},
   "outputs": [
    {
     "name": "stderr",
     "output_type": "stream",
     "text": [
      "C:\\Users\\hp\\Anaconda3\\lib\\site-packages\\sklearn\\tree\\_classes.py:359: FutureWarning: Criterion 'mse' was deprecated in v1.0 and will be removed in version 1.2. Use `criterion='squared_error'` which is equivalent.\n",
      "  warnings.warn(\n"
     ]
    },
    {
     "data": {
      "text/plain": [
       "DecisionTreeRegressor(criterion='mse')"
      ]
     },
     "execution_count": 82,
     "metadata": {},
     "output_type": "execute_result"
    }
   ],
   "source": [
    "#fits x_train and y_train to the model \n",
    "dc.fit(x_train, y_train)"
   ]
  },
  {
   "cell_type": "code",
   "execution_count": 83,
   "id": "4e31f8bf",
   "metadata": {},
   "outputs": [
    {
     "data": {
      "text/plain": [
       "0.8973359937804002"
      ]
     },
     "execution_count": 83,
     "metadata": {},
     "output_type": "execute_result"
    }
   ],
   "source": [
    "#We check the performance of our testing Data set, to ensure we do not have a model overfit or underfit\n",
    "#We must ensure we have a balanced fit\n",
    "dc.score(x_test, y_test)"
   ]
  },
  {
   "cell_type": "code",
   "execution_count": 84,
   "id": "807a7349",
   "metadata": {},
   "outputs": [
    {
     "data": {
      "text/plain": [
       "0.9667375371266602"
      ]
     },
     "execution_count": 84,
     "metadata": {},
     "output_type": "execute_result"
    }
   ],
   "source": [
    "#We check the performance of our training Data set\n",
    "#We can observe that we have a balanced fit because our training and testing dataset perform okay\n",
    "dc.score(x_train, y_train)"
   ]
  },
  {
   "cell_type": "code",
   "execution_count": 85,
   "id": "68c50a1e",
   "metadata": {},
   "outputs": [],
   "source": [
    "#preicts the values\n",
    "y_pred_dc =dc.predict(x_test)"
   ]
  },
  {
   "cell_type": "code",
   "execution_count": 86,
   "id": "c4fa2983",
   "metadata": {},
   "outputs": [
    {
     "data": {
      "text/plain": [
       "array([ 2000.        , 20275.        , 32600.        , ...,\n",
       "       43884.21052632, 33812.91666667, 39225.        ])"
      ]
     },
     "execution_count": 86,
     "metadata": {},
     "output_type": "execute_result"
    }
   ],
   "source": [
    "#Displays predicted values\n",
    "y_pred_dc"
   ]
  },
  {
   "cell_type": "code",
   "execution_count": 87,
   "id": "49e2d292",
   "metadata": {},
   "outputs": [
    {
     "data": {
      "text/html": [
       "<div>\n",
       "<style scoped>\n",
       "    .dataframe tbody tr th:only-of-type {\n",
       "        vertical-align: middle;\n",
       "    }\n",
       "\n",
       "    .dataframe tbody tr th {\n",
       "        vertical-align: top;\n",
       "    }\n",
       "\n",
       "    .dataframe thead th {\n",
       "        text-align: right;\n",
       "    }\n",
       "</style>\n",
       "<table border=\"1\" class=\"dataframe\">\n",
       "  <thead>\n",
       "    <tr style=\"text-align: right;\">\n",
       "      <th></th>\n",
       "      <th>Actual</th>\n",
       "      <th>Predicted</th>\n",
       "    </tr>\n",
       "  </thead>\n",
       "  <tbody>\n",
       "    <tr>\n",
       "      <th>881</th>\n",
       "      <td>2000</td>\n",
       "      <td>2000.000000</td>\n",
       "    </tr>\n",
       "    <tr>\n",
       "      <th>8010</th>\n",
       "      <td>16300</td>\n",
       "      <td>20275.000000</td>\n",
       "    </tr>\n",
       "    <tr>\n",
       "      <th>2198</th>\n",
       "      <td>26600</td>\n",
       "      <td>32600.000000</td>\n",
       "    </tr>\n",
       "    <tr>\n",
       "      <th>4513</th>\n",
       "      <td>26540</td>\n",
       "      <td>31739.000000</td>\n",
       "    </tr>\n",
       "    <tr>\n",
       "      <th>10832</th>\n",
       "      <td>19885</td>\n",
       "      <td>20880.000000</td>\n",
       "    </tr>\n",
       "    <tr>\n",
       "      <th>...</th>\n",
       "      <td>...</td>\n",
       "      <td>...</td>\n",
       "    </tr>\n",
       "    <tr>\n",
       "      <th>9720</th>\n",
       "      <td>28575</td>\n",
       "      <td>28925.000000</td>\n",
       "    </tr>\n",
       "    <tr>\n",
       "      <th>5121</th>\n",
       "      <td>32950</td>\n",
       "      <td>42850.000000</td>\n",
       "    </tr>\n",
       "    <tr>\n",
       "      <th>11002</th>\n",
       "      <td>41720</td>\n",
       "      <td>43884.210526</td>\n",
       "    </tr>\n",
       "    <tr>\n",
       "      <th>9025</th>\n",
       "      <td>36700</td>\n",
       "      <td>33812.916667</td>\n",
       "    </tr>\n",
       "    <tr>\n",
       "      <th>8508</th>\n",
       "      <td>41370</td>\n",
       "      <td>39225.000000</td>\n",
       "    </tr>\n",
       "  </tbody>\n",
       "</table>\n",
       "<p>2814 rows × 2 columns</p>\n",
       "</div>"
      ],
      "text/plain": [
       "       Actual     Predicted\n",
       "881      2000   2000.000000\n",
       "8010    16300  20275.000000\n",
       "2198    26600  32600.000000\n",
       "4513    26540  31739.000000\n",
       "10832   19885  20880.000000\n",
       "...       ...           ...\n",
       "9720    28575  28925.000000\n",
       "5121    32950  42850.000000\n",
       "11002   41720  43884.210526\n",
       "9025    36700  33812.916667\n",
       "8508    41370  39225.000000\n",
       "\n",
       "[2814 rows x 2 columns]"
      ]
     },
     "execution_count": 87,
     "metadata": {},
     "output_type": "execute_result"
    }
   ],
   "source": [
    "#We create a Dataframe which is a function in pandas to compare our predicted values to our y_test values\n",
    "pd.DataFrame({\"Actual\": y_test, \"Predicted\": y_pred_dc})"
   ]
  },
  {
   "cell_type": "markdown",
   "id": "2815e679",
   "metadata": {},
   "source": [
    "DecisionTree Regressor Model Evaluation"
   ]
  },
  {
   "cell_type": "code",
   "execution_count": 88,
   "id": "1427088e",
   "metadata": {},
   "outputs": [
    {
     "name": "stdout",
     "output_type": "stream",
     "text": [
      "Mean Absolute Error 3058.02287320849\n",
      "Mean Squared Error 22942619.98929122\n",
      "Root Mean Squared Error 4789.845507873007\n",
      "r2 Score 0.8973359937804002\n"
     ]
    }
   ],
   "source": [
    "print(\"Mean Absolute Error\", m.mean_absolute_error(y_test, y_pred_dc))\n",
    "print(\"Mean Squared Error\", m.mean_squared_error(y_test,y_pred_dc))\n",
    "print(\"Root Mean Squared Error\", np.sqrt(m.mean_squared_error(y_test, y_pred_dc)))\n",
    "print(\"r2 Score\", r2_score(y_test,y_pred_dc))"
   ]
  },
  {
   "cell_type": "markdown",
   "id": "75c11b4b",
   "metadata": {},
   "source": [
    "SUPPORT VECTOR MACHINE ALGORITHM FOR REGRESSION TASK (SUPPORT VECTOR REGRESSOR)> Is a supervised learning algorithm, creates best line fit for regression task."
   ]
  },
  {
   "cell_type": "code",
   "execution_count": 89,
   "id": "7cdfffd8",
   "metadata": {},
   "outputs": [],
   "source": [
    "#imports support vector regressor from sklearn support vector machine\n",
    "from sklearn.svm import SVR"
   ]
  },
  {
   "cell_type": "code",
   "execution_count": 90,
   "id": "4218a5ad",
   "metadata": {},
   "outputs": [],
   "source": [
    "#creates an object/instance svr for the model\n",
    "svr = SVR(kernel = \"poly\", degree =8)"
   ]
  },
  {
   "cell_type": "code",
   "execution_count": 91,
   "id": "bc68e386",
   "metadata": {},
   "outputs": [
    {
     "data": {
      "text/plain": [
       "SVR(degree=8, kernel='poly')"
      ]
     },
     "execution_count": 91,
     "metadata": {},
     "output_type": "execute_result"
    }
   ],
   "source": [
    "#fits our training into the model\n",
    "svr.fit(x_train, y_train)"
   ]
  },
  {
   "cell_type": "code",
   "execution_count": 92,
   "id": "4d8bbe73",
   "metadata": {},
   "outputs": [
    {
     "data": {
      "text/plain": [
       "0.6888037752433342"
      ]
     },
     "execution_count": 92,
     "metadata": {},
     "output_type": "execute_result"
    }
   ],
   "source": [
    "#We check the performance of our testing Data set, to ensure we do not have a model overfit or underfit\n",
    "#We must ensure we have a balanced fit\n",
    "svr.score(x_test,y_test)"
   ]
  },
  {
   "cell_type": "code",
   "execution_count": 93,
   "id": "0a80cf99",
   "metadata": {},
   "outputs": [
    {
     "data": {
      "text/plain": [
       "0.7326470509236466"
      ]
     },
     "execution_count": 93,
     "metadata": {},
     "output_type": "execute_result"
    }
   ],
   "source": [
    "#We check the performance of our training Data set\n",
    "#We can observe that we have a balanced fit because our training and testing dataset perform okay\n",
    "svr.score(x_train, y_train)"
   ]
  },
  {
   "cell_type": "code",
   "execution_count": 94,
   "id": "687bcd03",
   "metadata": {},
   "outputs": [],
   "source": [
    "#predicts values \n",
    "y_pred_svr = svr.predict(x_test)"
   ]
  },
  {
   "cell_type": "code",
   "execution_count": 95,
   "id": "ae5c7c0e",
   "metadata": {},
   "outputs": [
    {
     "data": {
      "text/plain": [
       "array([15008.20772418, 19585.94349433, 46026.40548235, ...,\n",
       "       43040.02658592, 33757.704836  , 44471.48064033])"
      ]
     },
     "execution_count": 95,
     "metadata": {},
     "output_type": "execute_result"
    }
   ],
   "source": [
    "#displays predicted values\n",
    "y_pred_svr"
   ]
  },
  {
   "cell_type": "code",
   "execution_count": 96,
   "id": "5d8fdb8e",
   "metadata": {},
   "outputs": [
    {
     "data": {
      "text/html": [
       "<div>\n",
       "<style scoped>\n",
       "    .dataframe tbody tr th:only-of-type {\n",
       "        vertical-align: middle;\n",
       "    }\n",
       "\n",
       "    .dataframe tbody tr th {\n",
       "        vertical-align: top;\n",
       "    }\n",
       "\n",
       "    .dataframe thead th {\n",
       "        text-align: right;\n",
       "    }\n",
       "</style>\n",
       "<table border=\"1\" class=\"dataframe\">\n",
       "  <thead>\n",
       "    <tr style=\"text-align: right;\">\n",
       "      <th></th>\n",
       "      <th>Actual</th>\n",
       "      <th>Predicted</th>\n",
       "    </tr>\n",
       "  </thead>\n",
       "  <tbody>\n",
       "    <tr>\n",
       "      <th>881</th>\n",
       "      <td>2000</td>\n",
       "      <td>15008.207724</td>\n",
       "    </tr>\n",
       "    <tr>\n",
       "      <th>8010</th>\n",
       "      <td>16300</td>\n",
       "      <td>19585.943494</td>\n",
       "    </tr>\n",
       "    <tr>\n",
       "      <th>2198</th>\n",
       "      <td>26600</td>\n",
       "      <td>46026.405482</td>\n",
       "    </tr>\n",
       "    <tr>\n",
       "      <th>4513</th>\n",
       "      <td>26540</td>\n",
       "      <td>33126.197574</td>\n",
       "    </tr>\n",
       "    <tr>\n",
       "      <th>10832</th>\n",
       "      <td>19885</td>\n",
       "      <td>18323.110465</td>\n",
       "    </tr>\n",
       "    <tr>\n",
       "      <th>...</th>\n",
       "      <td>...</td>\n",
       "      <td>...</td>\n",
       "    </tr>\n",
       "    <tr>\n",
       "      <th>9720</th>\n",
       "      <td>28575</td>\n",
       "      <td>33232.128090</td>\n",
       "    </tr>\n",
       "    <tr>\n",
       "      <th>5121</th>\n",
       "      <td>32950</td>\n",
       "      <td>43284.455638</td>\n",
       "    </tr>\n",
       "    <tr>\n",
       "      <th>11002</th>\n",
       "      <td>41720</td>\n",
       "      <td>43040.026586</td>\n",
       "    </tr>\n",
       "    <tr>\n",
       "      <th>9025</th>\n",
       "      <td>36700</td>\n",
       "      <td>33757.704836</td>\n",
       "    </tr>\n",
       "    <tr>\n",
       "      <th>8508</th>\n",
       "      <td>41370</td>\n",
       "      <td>44471.480640</td>\n",
       "    </tr>\n",
       "  </tbody>\n",
       "</table>\n",
       "<p>2814 rows × 2 columns</p>\n",
       "</div>"
      ],
      "text/plain": [
       "       Actual     Predicted\n",
       "881      2000  15008.207724\n",
       "8010    16300  19585.943494\n",
       "2198    26600  46026.405482\n",
       "4513    26540  33126.197574\n",
       "10832   19885  18323.110465\n",
       "...       ...           ...\n",
       "9720    28575  33232.128090\n",
       "5121    32950  43284.455638\n",
       "11002   41720  43040.026586\n",
       "9025    36700  33757.704836\n",
       "8508    41370  44471.480640\n",
       "\n",
       "[2814 rows x 2 columns]"
      ]
     },
     "execution_count": 96,
     "metadata": {},
     "output_type": "execute_result"
    }
   ],
   "source": [
    "#We create a Dataframe which is a function in pandas to compare our predicted values to our y_test values\n",
    "pd.DataFrame({\"Actual\": y_test, \"Predicted\": y_pred_svr})"
   ]
  },
  {
   "cell_type": "markdown",
   "id": "4d8157dc",
   "metadata": {},
   "source": [
    "Model Evaluation for Support Vector Regressor Algorithm"
   ]
  },
  {
   "cell_type": "code",
   "execution_count": 97,
   "id": "a0e77fe6",
   "metadata": {},
   "outputs": [
    {
     "name": "stdout",
     "output_type": "stream",
     "text": [
      "Mean Absolute Error 5818.888489255955\n",
      "Mean Squared Error 69543913.0966934\n",
      "Root Mean Squared Error 8339.299316890681\n",
      "r2 Score 0.6888037752433342\n"
     ]
    }
   ],
   "source": [
    "print(\"Mean Absolute Error\", m.mean_absolute_error(y_test, y_pred_svr))\n",
    "print(\"Mean Squared Error\", m.mean_squared_error(y_test,y_pred_svr))\n",
    "print(\"Root Mean Squared Error\", np.sqrt(m.mean_squared_error(y_test, y_pred_svr)))\n",
    "print(\"r2 Score\", r2_score(y_test,y_pred_svr))"
   ]
  },
  {
   "cell_type": "markdown",
   "id": "ef2ba3e1",
   "metadata": {},
   "source": [
    "K Nearest Neighbor Regressor Algorithm (Because the task is a regression task we deploy the KNeighbors Regressor Algorithm)"
   ]
  },
  {
   "cell_type": "code",
   "execution_count": 98,
   "id": "44cf5e16",
   "metadata": {},
   "outputs": [],
   "source": [
    "from sklearn.neighbors import KNeighborsRegressor"
   ]
  },
  {
   "cell_type": "code",
   "execution_count": 99,
   "id": "22fe56c5",
   "metadata": {},
   "outputs": [],
   "source": [
    "#create an instance/object for our model\n",
    "#kn = KNeighborsRegressor(n_neighbors =5, metric =\"minkowski\", p=2)\n",
    "kn =KNeighborsRegressor()"
   ]
  },
  {
   "cell_type": "code",
   "execution_count": 100,
   "id": "b05a39cd",
   "metadata": {},
   "outputs": [],
   "source": [
    "#fit our model\n",
    "kn = kn.fit(x_train, y_train)"
   ]
  },
  {
   "cell_type": "code",
   "execution_count": 101,
   "id": "c745976d",
   "metadata": {},
   "outputs": [],
   "source": [
    "#predicts values\n",
    "y_pred_kn = kn.predict(x_test)"
   ]
  },
  {
   "cell_type": "code",
   "execution_count": 102,
   "id": "01a41a11",
   "metadata": {},
   "outputs": [
    {
     "data": {
      "text/plain": [
       "array([ 2045., 18516., 41256., ..., 43038., 34729., 36479.])"
      ]
     },
     "execution_count": 102,
     "metadata": {},
     "output_type": "execute_result"
    }
   ],
   "source": [
    "#Display predicted values\n",
    "y_pred_kn"
   ]
  },
  {
   "cell_type": "code",
   "execution_count": 103,
   "id": "39b06db8",
   "metadata": {},
   "outputs": [
    {
     "data": {
      "text/plain": [
       "0.8628528524081804"
      ]
     },
     "execution_count": 103,
     "metadata": {},
     "output_type": "execute_result"
    }
   ],
   "source": [
    "#We check the performance of our testing Data set, to ensure we do not have a model overfit or underfit\n",
    "#We must ensure we have a balanced fit\n",
    "kn.score(x_test,y_test)"
   ]
  },
  {
   "cell_type": "code",
   "execution_count": 104,
   "id": "efedbe4a",
   "metadata": {},
   "outputs": [
    {
     "data": {
      "text/plain": [
       "0.9137127444073542"
      ]
     },
     "execution_count": 104,
     "metadata": {},
     "output_type": "execute_result"
    }
   ],
   "source": [
    "#We check the performance of our training Data set\n",
    "#We can observe that we have a balanced fit because our training and testing dataset perform okay\n",
    "kn.score(x_train, y_train)"
   ]
  },
  {
   "cell_type": "code",
   "execution_count": 105,
   "id": "38a11e64",
   "metadata": {},
   "outputs": [
    {
     "data": {
      "text/html": [
       "<div>\n",
       "<style scoped>\n",
       "    .dataframe tbody tr th:only-of-type {\n",
       "        vertical-align: middle;\n",
       "    }\n",
       "\n",
       "    .dataframe tbody tr th {\n",
       "        vertical-align: top;\n",
       "    }\n",
       "\n",
       "    .dataframe thead th {\n",
       "        text-align: right;\n",
       "    }\n",
       "</style>\n",
       "<table border=\"1\" class=\"dataframe\">\n",
       "  <thead>\n",
       "    <tr style=\"text-align: right;\">\n",
       "      <th></th>\n",
       "      <th>Actual</th>\n",
       "      <th>Predicted</th>\n",
       "    </tr>\n",
       "  </thead>\n",
       "  <tbody>\n",
       "    <tr>\n",
       "      <th>881</th>\n",
       "      <td>2000</td>\n",
       "      <td>2045.0</td>\n",
       "    </tr>\n",
       "    <tr>\n",
       "      <th>8010</th>\n",
       "      <td>16300</td>\n",
       "      <td>18516.0</td>\n",
       "    </tr>\n",
       "    <tr>\n",
       "      <th>2198</th>\n",
       "      <td>26600</td>\n",
       "      <td>41256.0</td>\n",
       "    </tr>\n",
       "    <tr>\n",
       "      <th>4513</th>\n",
       "      <td>26540</td>\n",
       "      <td>31739.0</td>\n",
       "    </tr>\n",
       "    <tr>\n",
       "      <th>10832</th>\n",
       "      <td>19885</td>\n",
       "      <td>20869.0</td>\n",
       "    </tr>\n",
       "    <tr>\n",
       "      <th>...</th>\n",
       "      <td>...</td>\n",
       "      <td>...</td>\n",
       "    </tr>\n",
       "    <tr>\n",
       "      <th>9720</th>\n",
       "      <td>28575</td>\n",
       "      <td>38215.0</td>\n",
       "    </tr>\n",
       "    <tr>\n",
       "      <th>5121</th>\n",
       "      <td>32950</td>\n",
       "      <td>40630.0</td>\n",
       "    </tr>\n",
       "    <tr>\n",
       "      <th>11002</th>\n",
       "      <td>41720</td>\n",
       "      <td>43038.0</td>\n",
       "    </tr>\n",
       "    <tr>\n",
       "      <th>9025</th>\n",
       "      <td>36700</td>\n",
       "      <td>34729.0</td>\n",
       "    </tr>\n",
       "    <tr>\n",
       "      <th>8508</th>\n",
       "      <td>41370</td>\n",
       "      <td>36479.0</td>\n",
       "    </tr>\n",
       "  </tbody>\n",
       "</table>\n",
       "<p>2814 rows × 2 columns</p>\n",
       "</div>"
      ],
      "text/plain": [
       "       Actual  Predicted\n",
       "881      2000     2045.0\n",
       "8010    16300    18516.0\n",
       "2198    26600    41256.0\n",
       "4513    26540    31739.0\n",
       "10832   19885    20869.0\n",
       "...       ...        ...\n",
       "9720    28575    38215.0\n",
       "5121    32950    40630.0\n",
       "11002   41720    43038.0\n",
       "9025    36700    34729.0\n",
       "8508    41370    36479.0\n",
       "\n",
       "[2814 rows x 2 columns]"
      ]
     },
     "execution_count": 105,
     "metadata": {},
     "output_type": "execute_result"
    }
   ],
   "source": [
    "#We create a Dataframe which is a function in pandas to compare our predicted values to our y_test values\n",
    "pd.DataFrame({\"Actual\": y_test, \"Predicted\": y_pred_kn})"
   ]
  },
  {
   "cell_type": "markdown",
   "id": "4143e968",
   "metadata": {},
   "source": [
    "Model Evaluation for KNeighbors "
   ]
  },
  {
   "cell_type": "code",
   "execution_count": 106,
   "id": "d6070d76",
   "metadata": {},
   "outputs": [
    {
     "name": "stdout",
     "output_type": "stream",
     "text": [
      "Mean Absolute Error 3641.492395167021\n",
      "Mean Squared Error 30648666.515934613\n",
      "Root Mean Squared Error 5536.123780763452\n",
      "r2 Score 0.8628528524081804\n"
     ]
    }
   ],
   "source": [
    "print(\"Mean Absolute Error\", m.mean_absolute_error(y_test, y_pred_kn))\n",
    "print(\"Mean Squared Error\", m.mean_squared_error(y_test,y_pred_kn))\n",
    "print(\"Root Mean Squared Error\", np.sqrt(m.mean_squared_error(y_test, y_pred_kn)))\n",
    "print(\"r2 Score\", r2_score(y_test,y_pred_kn))"
   ]
  },
  {
   "cell_type": "markdown",
   "id": "7cbe6790",
   "metadata": {},
   "source": [
    "Random Forest Regressor Algorithm (we import Regressor version of Random forest as the task is a regression task0"
   ]
  },
  {
   "cell_type": "code",
   "execution_count": 107,
   "id": "8060cf41",
   "metadata": {},
   "outputs": [],
   "source": [
    "#imports Random Forest Regressor from sklearn ensemble\n",
    "from sklearn.ensemble import RandomForestRegressor"
   ]
  },
  {
   "cell_type": "code",
   "execution_count": 108,
   "id": "81b30327",
   "metadata": {},
   "outputs": [],
   "source": [
    "#Creat an instance/object for the model\n",
    "random_forest = RandomForestRegressor(n_estimators =10, criterion = \"mae\")"
   ]
  },
  {
   "cell_type": "code",
   "execution_count": 109,
   "id": "8c12bd38",
   "metadata": {},
   "outputs": [
    {
     "name": "stderr",
     "output_type": "stream",
     "text": [
      "C:\\Users\\hp\\Anaconda3\\lib\\site-packages\\sklearn\\ensemble\\_forest.py:403: FutureWarning: Criterion 'mae' was deprecated in v1.0 and will be removed in version 1.2. Use `criterion='absolute_error'` which is equivalent.\n",
      "  warn(\n"
     ]
    },
    {
     "data": {
      "text/plain": [
       "RandomForestRegressor(criterion='mae', n_estimators=10)"
      ]
     },
     "execution_count": 109,
     "metadata": {},
     "output_type": "execute_result"
    }
   ],
   "source": [
    "random_forest.fit(x_train, y_train)"
   ]
  },
  {
   "cell_type": "code",
   "execution_count": 110,
   "id": "e6a2c7a5",
   "metadata": {},
   "outputs": [],
   "source": [
    "#predicts the values\n",
    "y_pred_forest = random_forest.predict(x_test)"
   ]
  },
  {
   "cell_type": "code",
   "execution_count": 111,
   "id": "2efa6a2e",
   "metadata": {},
   "outputs": [
    {
     "data": {
      "text/plain": [
       "array([ 3409.45, 17760.4 , 32999.  , ..., 43476.75, 33973.  , 39858.  ])"
      ]
     },
     "execution_count": 111,
     "metadata": {},
     "output_type": "execute_result"
    }
   ],
   "source": [
    "#Displays predicted values\n",
    "y_pred_forest"
   ]
  },
  {
   "cell_type": "code",
   "execution_count": 112,
   "id": "d7a20641",
   "metadata": {},
   "outputs": [
    {
     "data": {
      "text/plain": [
       "0.9137960683657899"
      ]
     },
     "execution_count": 112,
     "metadata": {},
     "output_type": "execute_result"
    }
   ],
   "source": [
    "#We check the performance of our testing Data set, to ensure we do not have a model overfit or underfit\n",
    "#We must ensure we have a balanced fit\n",
    "random_forest.score(x_test, y_test)"
   ]
  },
  {
   "cell_type": "code",
   "execution_count": 113,
   "id": "2b1bde3f",
   "metadata": {},
   "outputs": [
    {
     "data": {
      "text/plain": [
       "0.9580870340493453"
      ]
     },
     "execution_count": 113,
     "metadata": {},
     "output_type": "execute_result"
    }
   ],
   "source": [
    "#We check the performance of our training Data set\n",
    "#We can observe that we have a balanced fit because our training and testing dataset perform okay\n",
    "random_forest.score(x_train, y_train)"
   ]
  },
  {
   "cell_type": "code",
   "execution_count": 114,
   "id": "bdf57737",
   "metadata": {},
   "outputs": [
    {
     "data": {
      "text/html": [
       "<div>\n",
       "<style scoped>\n",
       "    .dataframe tbody tr th:only-of-type {\n",
       "        vertical-align: middle;\n",
       "    }\n",
       "\n",
       "    .dataframe tbody tr th {\n",
       "        vertical-align: top;\n",
       "    }\n",
       "\n",
       "    .dataframe thead th {\n",
       "        text-align: right;\n",
       "    }\n",
       "</style>\n",
       "<table border=\"1\" class=\"dataframe\">\n",
       "  <thead>\n",
       "    <tr style=\"text-align: right;\">\n",
       "      <th></th>\n",
       "      <th>Actual</th>\n",
       "      <th>Predicted</th>\n",
       "    </tr>\n",
       "  </thead>\n",
       "  <tbody>\n",
       "    <tr>\n",
       "      <th>881</th>\n",
       "      <td>2000</td>\n",
       "      <td>3409.45</td>\n",
       "    </tr>\n",
       "    <tr>\n",
       "      <th>8010</th>\n",
       "      <td>16300</td>\n",
       "      <td>17760.40</td>\n",
       "    </tr>\n",
       "    <tr>\n",
       "      <th>2198</th>\n",
       "      <td>26600</td>\n",
       "      <td>32999.00</td>\n",
       "    </tr>\n",
       "    <tr>\n",
       "      <th>4513</th>\n",
       "      <td>26540</td>\n",
       "      <td>32257.75</td>\n",
       "    </tr>\n",
       "    <tr>\n",
       "      <th>10832</th>\n",
       "      <td>19885</td>\n",
       "      <td>20619.00</td>\n",
       "    </tr>\n",
       "    <tr>\n",
       "      <th>...</th>\n",
       "      <td>...</td>\n",
       "      <td>...</td>\n",
       "    </tr>\n",
       "    <tr>\n",
       "      <th>9720</th>\n",
       "      <td>28575</td>\n",
       "      <td>35736.00</td>\n",
       "    </tr>\n",
       "    <tr>\n",
       "      <th>5121</th>\n",
       "      <td>32950</td>\n",
       "      <td>41275.00</td>\n",
       "    </tr>\n",
       "    <tr>\n",
       "      <th>11002</th>\n",
       "      <td>41720</td>\n",
       "      <td>43476.75</td>\n",
       "    </tr>\n",
       "    <tr>\n",
       "      <th>9025</th>\n",
       "      <td>36700</td>\n",
       "      <td>33973.00</td>\n",
       "    </tr>\n",
       "    <tr>\n",
       "      <th>8508</th>\n",
       "      <td>41370</td>\n",
       "      <td>39858.00</td>\n",
       "    </tr>\n",
       "  </tbody>\n",
       "</table>\n",
       "<p>2814 rows × 2 columns</p>\n",
       "</div>"
      ],
      "text/plain": [
       "       Actual  Predicted\n",
       "881      2000    3409.45\n",
       "8010    16300   17760.40\n",
       "2198    26600   32999.00\n",
       "4513    26540   32257.75\n",
       "10832   19885   20619.00\n",
       "...       ...        ...\n",
       "9720    28575   35736.00\n",
       "5121    32950   41275.00\n",
       "11002   41720   43476.75\n",
       "9025    36700   33973.00\n",
       "8508    41370   39858.00\n",
       "\n",
       "[2814 rows x 2 columns]"
      ]
     },
     "execution_count": 114,
     "metadata": {},
     "output_type": "execute_result"
    }
   ],
   "source": [
    "#We create a Dataframe which is a function in pandas to compare our predicted values to our y_test values\n",
    "pd.DataFrame({\"Actual\": y_test, \"Predicted\": y_pred_forest})"
   ]
  },
  {
   "cell_type": "markdown",
   "id": "d9f80c46",
   "metadata": {},
   "source": [
    "Model Evaluation for Rnadom Forest Regressor Algorithm"
   ]
  },
  {
   "cell_type": "code",
   "execution_count": 115,
   "id": "4b327909",
   "metadata": {},
   "outputs": [
    {
     "name": "stdout",
     "output_type": "stream",
     "text": [
      "Mean Absolute Error 3001.4808102345414\n",
      "Mean Squared Error 19264239.90152985\n",
      "Root Mean Squared Error 4389.104681085864\n",
      "r2 Score 0.9137960683657899\n"
     ]
    }
   ],
   "source": [
    "print(\"Mean Absolute Error\", m.mean_absolute_error(y_test, y_pred_forest))\n",
    "print(\"Mean Squared Error\", m.mean_squared_error(y_test,y_pred_forest))\n",
    "print(\"Root Mean Squared Error\", np.sqrt(m.mean_squared_error(y_test, y_pred_forest)))\n",
    "print(\"r2 Score\", r2_score(y_test,y_pred_forest))"
   ]
  },
  {
   "cell_type": "markdown",
   "id": "e69af588",
   "metadata": {},
   "source": [
    "We have trained several models on the car features and msrp dataset, however there maybe room for improvement as one cannot say for certain that this particular model is best suited for our task. so in trying to improve the models by any way possible. One reknowned way to do this is by tuning the hyperparameters, this may help improve the performance of a model significantly. \n",
    "\n",
    "GridSearchCV is the process of performing hyperparameter tuning in order to determine the optimal values for a given model.\n",
    "\n",
    "GridSearchCV for Linear Regression (Hyperparameter tuning for Linear Regression algorithm)"
   ]
  },
  {
   "cell_type": "code",
   "execution_count": 116,
   "id": "043535cc",
   "metadata": {},
   "outputs": [],
   "source": [
    "#We create an empty list where we will append models, scores and paramteres\n",
    "alg_model=[]\n",
    "alg_score=[]\n",
    "alg_params=[]"
   ]
  },
  {
   "cell_type": "code",
   "execution_count": 117,
   "id": "0f5f847b",
   "metadata": {},
   "outputs": [],
   "source": [
    "#we import GridSearchCV from sklearn model selection\n",
    "from sklearn.model_selection import GridSearchCV"
   ]
  },
  {
   "cell_type": "code",
   "execution_count": 118,
   "id": "a3cb1bd3",
   "metadata": {},
   "outputs": [
    {
     "name": "stdout",
     "output_type": "stream",
     "text": [
      "{'copy_X': True, 'fit_intercept': True, 'n_jobs': -10, 'normalize': 'deprecated', 'positive': False}\n",
      "LinearRegression(n_jobs=-10)\n",
      "0.6935231199425191\n"
     ]
    }
   ],
   "source": [
    "parameters = {\"fit_intercept\":[True,False],\n",
    "             \"copy_X\":[True,False],\n",
    "             \"n_jobs\":range(-10,10),\n",
    "             \"positive\": [True, False],\n",
    "              \"normalize\": [\"deprecated\"]\n",
    "             }\n",
    "regressor = LinearRegression()\n",
    "grid = GridSearchCV(regressor, parameters, cv= 4)\n",
    "grid.fit(x,y)\n",
    "print(grid.best_params_)\n",
    "print(grid.best_estimator_)\n",
    "print(grid.best_score_)\n",
    "\n",
    "alg_model.append(regressor)\n",
    "alg_score.append(grid.best_score_)\n",
    "alg_params.append(grid.best_params_)"
   ]
  },
  {
   "cell_type": "markdown",
   "id": "2b8fcdc6",
   "metadata": {},
   "source": [
    "GridSearchCV for RidgeCV"
   ]
  },
  {
   "cell_type": "code",
   "execution_count": 119,
   "id": "3f00ef49",
   "metadata": {},
   "outputs": [
    {
     "name": "stdout",
     "output_type": "stream",
     "text": [
      "{'fit_intercept': True, 'normalize': 'deprecated'}\n",
      "RidgeCV(alphas=array([ 0.1,  1. , 10. ]))\n",
      "0.6935214493486713\n"
     ]
    }
   ],
   "source": [
    "regressor_cv = RidgeCV()\n",
    "parameters = {\"fit_intercept\": [True, False],\n",
    "             \"normalize\": [\"deprecated\"],\n",
    "             }\n",
    "regressor_cv = RidgeCV()\n",
    "grid = GridSearchCV(regressor_cv,parameters, cv=4)\n",
    "grid.fit(x,y)\n",
    "print(grid.best_params_)\n",
    "print(grid.best_estimator_)\n",
    "print(grid.best_score_)\n",
    "\n",
    "alg_model.append(regressor_cv)\n",
    "alg_score.append(grid.best_score_)\n",
    "alg_params.append(grid.best_params_)"
   ]
  },
  {
   "cell_type": "markdown",
   "id": "356ea8f4",
   "metadata": {},
   "source": [
    "GridSearchCV for LassoCV"
   ]
  },
  {
   "cell_type": "code",
   "execution_count": 120,
   "id": "8b18b133",
   "metadata": {},
   "outputs": [
    {
     "name": "stdout",
     "output_type": "stream",
     "text": [
      "{'fit_intercept': True, 'normalize': 'deprecated'}\n",
      "LassoCV()\n",
      "0.6840694307177907\n"
     ]
    }
   ],
   "source": [
    "regressor_lasso_cv = LassoCV()\n",
    "parameters ={\"fit_intercept\": [True, False],\n",
    "             \"normalize\": [\"deprecated\"],\n",
    "            }\n",
    "regressor_lasso_cv = LassoCV()\n",
    "grid = GridSearchCV(regressor_lasso_cv, parameters, cv =4)\n",
    "grid.fit(x,y)\n",
    "print(grid.best_params_)\n",
    "print(grid.best_estimator_)\n",
    "print(grid.best_score_)\n",
    "\n",
    "alg_model.append(regressor_lasso_cv)\n",
    "alg_score.append(grid.best_score_)\n",
    "alg_params.append(grid.best_params_)"
   ]
  },
  {
   "cell_type": "markdown",
   "id": "c40f19d3",
   "metadata": {},
   "source": [
    "GridSearchCV for Decision Tree Regressor"
   ]
  },
  {
   "cell_type": "code",
   "execution_count": 121,
   "id": "821c0691",
   "metadata": {},
   "outputs": [
    {
     "name": "stdout",
     "output_type": "stream",
     "text": [
      "{'criterion': 'squared_error', 'max_features': None, 'min_samples_leaf': 15, 'min_samples_split': 200}\n",
      "DecisionTreeRegressor(min_samples_leaf=15, min_samples_split=200)\n",
      "0.7503987667112788\n"
     ]
    }
   ],
   "source": [
    "dc = DecisionTreeRegressor()\n",
    "parameters ={\"criterion\": [\"squared_error\"],\n",
    "            \"min_samples_split\":[20,50,100,200,300],\n",
    "            \"max_features\": [None],\n",
    "             \"min_samples_leaf\": [15]\n",
    "            }\n",
    "grid =GridSearchCV(dc, parameters, cv=4)\n",
    "grid.fit(x,y)\n",
    "print(grid.best_params_)\n",
    "print(grid.best_estimator_)\n",
    "print(grid.best_score_)\n",
    "\n",
    "alg_model.append(dc)\n",
    "alg_score.append(grid.best_score_)\n",
    "alg_params.append(grid.best_params_)"
   ]
  },
  {
   "cell_type": "markdown",
   "id": "b815c776",
   "metadata": {},
   "source": [
    "GridSearchCV for SVR"
   ]
  },
  {
   "cell_type": "code",
   "execution_count": 122,
   "id": "a064590a",
   "metadata": {},
   "outputs": [
    {
     "name": "stdout",
     "output_type": "stream",
     "text": [
      "{'C': 3.0, 'degree': 1, 'gamma': 'scale', 'kernel': 'linear', 'shrinking': True}\n",
      "SVR(C=3.0, degree=1, kernel='linear')\n",
      "0.6884604494407899\n"
     ]
    }
   ],
   "source": [
    "sv_regressor = SVR()\n",
    "parameters ={\"C\": [1.0,2.0,3.0],\n",
    "             \"degree\": [1,2,3],\n",
    "             \"gamma\": [\"scale\"],\n",
    "             \"kernel\":[\"linear\"],\n",
    "             \"shrinking\":[True]\n",
    "             }\n",
    "grid =GridSearchCV(sv_regressor, parameters, cv= 5)\n",
    "grid.fit(x,y)\n",
    "print(grid.best_params_)\n",
    "print(grid.best_estimator_)\n",
    "print(grid.best_score_)\n",
    "\n",
    "alg_model.append(sv_regressor)\n",
    "alg_score.append(grid.best_score_)\n",
    "alg_params.append(grid.best_params_)"
   ]
  },
  {
   "cell_type": "markdown",
   "id": "faa134ff",
   "metadata": {},
   "source": [
    "GridSearchCv for KNeighbors Regressor"
   ]
  },
  {
   "cell_type": "code",
   "execution_count": 123,
   "id": "a3f274a7",
   "metadata": {},
   "outputs": [
    {
     "name": "stdout",
     "output_type": "stream",
     "text": [
      "{'leaf_size': 40, 'metric': 'manhattan', 'n_neighbors': 200, 'p': -20}\n",
      "KNeighborsRegressor(leaf_size=40, metric='manhattan', n_neighbors=200, p=-20)\n",
      "0.6821276023760479\n"
     ]
    }
   ],
   "source": [
    "kn = KNeighborsRegressor()\n",
    "parameters ={\"n_neighbors\": [200,210],\n",
    "            \"p\":[-20,-1,0,1,5],\n",
    "             \"metric\": [\"manhattan\"],\n",
    "             \"leaf_size\": [10,20,40,50],\n",
    "             }\n",
    "grid = GridSearchCV(kn, parameters, cv=10)\n",
    "grid.fit(x,y)\n",
    "print(grid.best_params_)\n",
    "print(grid.best_estimator_)\n",
    "print(grid.best_score_)\n",
    "\n",
    "alg_model.append(kn)\n",
    "alg_score.append(grid.best_score_)\n",
    "alg_params.append(grid.best_params_)"
   ]
  },
  {
   "cell_type": "markdown",
   "id": "d9134fff",
   "metadata": {},
   "source": [
    "GridSearchCV for Random Forest Regressor"
   ]
  },
  {
   "cell_type": "code",
   "execution_count": 124,
   "id": "7729628f",
   "metadata": {},
   "outputs": [
    {
     "name": "stdout",
     "output_type": "stream",
     "text": [
      "{'criterion': 'squared_error', 'min_samples_split': 7, 'n_jobs': None}\n",
      "RandomForestRegressor(min_samples_split=7)\n",
      "0.750777492619197\n"
     ]
    }
   ],
   "source": [
    "random_forest = RandomForestRegressor()\n",
    "parameters ={\"criterion\": [\"squared_error\"],\n",
    "            \"min_samples_split\": [5,7],\n",
    "             \"n_jobs\":[None]\n",
    "            }\n",
    "grid = GridSearchCV(random_forest, parameters, cv =10)\n",
    "grid.fit(x,y)\n",
    "print(grid.best_params_)\n",
    "print(grid.best_estimator_)\n",
    "print(grid.best_score_)\n",
    "\n",
    "alg_model.append(random_forest)\n",
    "alg_score.append(grid.best_score_)\n",
    "alg_params.append(grid.best_params_)"
   ]
  },
  {
   "cell_type": "code",
   "execution_count": 125,
   "id": "1d37c5ef",
   "metadata": {
    "scrolled": true
   },
   "outputs": [
    {
     "data": {
      "text/html": [
       "<div>\n",
       "<style scoped>\n",
       "    .dataframe tbody tr th:only-of-type {\n",
       "        vertical-align: middle;\n",
       "    }\n",
       "\n",
       "    .dataframe tbody tr th {\n",
       "        vertical-align: top;\n",
       "    }\n",
       "\n",
       "    .dataframe thead th {\n",
       "        text-align: right;\n",
       "    }\n",
       "</style>\n",
       "<table border=\"1\" class=\"dataframe\">\n",
       "  <thead>\n",
       "    <tr style=\"text-align: right;\">\n",
       "      <th></th>\n",
       "      <th>Model Name</th>\n",
       "      <th>Best Scores</th>\n",
       "      <th>Best Parameters</th>\n",
       "    </tr>\n",
       "  </thead>\n",
       "  <tbody>\n",
       "    <tr>\n",
       "      <th>0</th>\n",
       "      <td>LinearRegression()</td>\n",
       "      <td>0.693523</td>\n",
       "      <td>{'copy_X': True, 'fit_intercept': True, 'n_job...</td>\n",
       "    </tr>\n",
       "    <tr>\n",
       "      <th>1</th>\n",
       "      <td>RidgeCV(alphas=array([ 0.1,  1. , 10. ]))</td>\n",
       "      <td>0.693521</td>\n",
       "      <td>{'fit_intercept': True, 'normalize': 'deprecat...</td>\n",
       "    </tr>\n",
       "    <tr>\n",
       "      <th>2</th>\n",
       "      <td>LassoCV()</td>\n",
       "      <td>0.684069</td>\n",
       "      <td>{'fit_intercept': True, 'normalize': 'deprecat...</td>\n",
       "    </tr>\n",
       "    <tr>\n",
       "      <th>3</th>\n",
       "      <td>DecisionTreeRegressor()</td>\n",
       "      <td>0.750399</td>\n",
       "      <td>{'criterion': 'squared_error', 'max_features':...</td>\n",
       "    </tr>\n",
       "    <tr>\n",
       "      <th>4</th>\n",
       "      <td>SVR()</td>\n",
       "      <td>0.688460</td>\n",
       "      <td>{'C': 3.0, 'degree': 1, 'gamma': 'scale', 'ker...</td>\n",
       "    </tr>\n",
       "    <tr>\n",
       "      <th>5</th>\n",
       "      <td>KNeighborsRegressor()</td>\n",
       "      <td>0.682128</td>\n",
       "      <td>{'leaf_size': 40, 'metric': 'manhattan', 'n_ne...</td>\n",
       "    </tr>\n",
       "    <tr>\n",
       "      <th>6</th>\n",
       "      <td>RandomForestRegressor()</td>\n",
       "      <td>0.750777</td>\n",
       "      <td>{'criterion': 'squared_error', 'min_samples_sp...</td>\n",
       "    </tr>\n",
       "  </tbody>\n",
       "</table>\n",
       "</div>"
      ],
      "text/plain": [
       "                                  Model Name  Best Scores  \\\n",
       "0                         LinearRegression()     0.693523   \n",
       "1  RidgeCV(alphas=array([ 0.1,  1. , 10. ]))     0.693521   \n",
       "2                                  LassoCV()     0.684069   \n",
       "3                    DecisionTreeRegressor()     0.750399   \n",
       "4                                      SVR()     0.688460   \n",
       "5                      KNeighborsRegressor()     0.682128   \n",
       "6                    RandomForestRegressor()     0.750777   \n",
       "\n",
       "                                     Best Parameters  \n",
       "0  {'copy_X': True, 'fit_intercept': True, 'n_job...  \n",
       "1  {'fit_intercept': True, 'normalize': 'deprecat...  \n",
       "2  {'fit_intercept': True, 'normalize': 'deprecat...  \n",
       "3  {'criterion': 'squared_error', 'max_features':...  \n",
       "4  {'C': 3.0, 'degree': 1, 'gamma': 'scale', 'ker...  \n",
       "5  {'leaf_size': 40, 'metric': 'manhattan', 'n_ne...  \n",
       "6  {'criterion': 'squared_error', 'min_samples_sp...  "
      ]
     },
     "execution_count": 125,
     "metadata": {},
     "output_type": "execute_result"
    }
   ],
   "source": [
    "#create a dataframe showing all algorithms deployed and their respective scores, plus the best parameters\n",
    "#this way we can see in a snap shot the best performing algorithm \n",
    "pd.DataFrame({\"Model Name\": alg_model, \"Best Scores\": alg_score, \"Best Parameters\": alg_params})"
   ]
  },
  {
   "cell_type": "markdown",
   "id": "635f109a",
   "metadata": {},
   "source": [
    "OBSERVATION: First, from all the models administered, we can observe from the scores that RandomForestRegressor algorithm is best suited for task as it provides the best result compared to other models. \n",
    "We can also observe that the scores are not as good as they ought to be, we should be attaining scores of at least 80%, this is because the dataset may require some more cleaning/EDA, perhaps replacing some values with mean values or maybe changing the random state or dropping one more column. However, i noticed that even admisistering gridsearchCV may not certainly provide us with improved performance. The data set has to be well cleaned.\n",
    "For hyperparameter tuning(GridSearchCV), I have decided to go with the best hyperparamters because writting \"manhattan, minkowski\" takes a longer time to execute on my system, hence why we see only one option on my gridseach cv."
   ]
  }
 ],
 "metadata": {
  "kernelspec": {
   "display_name": "Python 3 (ipykernel)",
   "language": "python",
   "name": "python3"
  },
  "language_info": {
   "codemirror_mode": {
    "name": "ipython",
    "version": 3
   },
   "file_extension": ".py",
   "mimetype": "text/x-python",
   "name": "python",
   "nbconvert_exporter": "python",
   "pygments_lexer": "ipython3",
   "version": "3.9.12"
  }
 },
 "nbformat": 4,
 "nbformat_minor": 5
}
